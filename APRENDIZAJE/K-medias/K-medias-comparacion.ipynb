{
 "cells": [
  {
   "cell_type": "markdown",
   "id": "c6fcd3fb",
   "metadata": {},
   "source": [
    "# Compresión de Imagen con K-Means\n",
    "\n",
    "Este notebook aplica el algoritmo K-Means para comprimir una imagen, probando diferentes valores de K y analizando el efecto en la calidad visual y la compresión."
   ]
  },
  {
   "cell_type": "markdown",
   "id": "e3e06dbc",
   "metadata": {},
   "source": [
    "## 1. Importar Librerías\n",
    "Importamos las librerías necesarias para el procesamiento de imágenes y clustering."
   ]
  },
  {
   "cell_type": "code",
   "execution_count": 1,
   "id": "71497f0d",
   "metadata": {},
   "outputs": [],
   "source": [
    "from PIL import Image\n",
    "import numpy as np\n",
    "import requests\n",
    "from io import BytesIO\n",
    "from sklearn.cluster import KMeans"
   ]
  },
  {
   "cell_type": "markdown",
   "id": "aa1e20b1",
   "metadata": {},
   "source": [
    "## 2. Descargar y Mostrar Imagen Original\n",
    "Descargamos la imagen desde la URL y la mostramos."
   ]
  },
  {
   "cell_type": "code",
   "execution_count": 2,
   "id": "7c873627",
   "metadata": {},
   "outputs": [],
   "source": [
    "# Descargar la imagen\n",
    "url = \"https://tec.mx/sites/default/files/repositorio/Campus/Monterrey/rectoria-campus-monterrey-tec.jpg\"\n",
    "response = requests.get(url)\n",
    "image = Image.open(BytesIO(response.content))\n",
    "image = image.convert(\"RGB\")\n",
    "image.show()"
   ]
  },
  {
   "cell_type": "markdown",
   "id": "96fa4a3a",
   "metadata": {},
   "source": [
    "## 3. Preprocesamiento de la Imagen\n",
    "Convertimos la imagen a un arreglo numpy y normalizamos los valores para aplicar K-Means."
   ]
  },
  {
   "cell_type": "code",
   "execution_count": 3,
   "id": "cb18648d",
   "metadata": {},
   "outputs": [],
   "source": [
    "# Convertir imagen a numpy y normalizar\n",
    "img_np = np.array(image)\n",
    "X = img_np.reshape(-1, 3) / 255.0\n",
    "img_shape = img_np.shape"
   ]
  },
  {
   "cell_type": "markdown",
   "id": "21bfdbc9",
   "metadata": {},
   "source": [
    "## 4. Aplicar K-Means con Diferentes Valores de K\n",
    "Probamos varios valores de K para observar el efecto en la compresión y calidad visual."
   ]
  },
  {
   "cell_type": "code",
   "execution_count": 5,
   "id": "5e98bb89",
   "metadata": {},
   "outputs": [],
   "source": [
    "# Definir valores de K y aplicar K-Means\n",
    "def kmeans_compress(X, k, img_shape):\n",
    "    kmeans = KMeans(n_clusters=k, random_state=42, n_init=10)\n",
    "    labels = kmeans.fit_predict(X)\n",
    "    compressed_img = kmeans.cluster_centers_[labels]\n",
    "    compressed_img = (compressed_img * 255).astype(np.uint8)\n",
    "    return compressed_img.reshape(img_shape)\n",
    "\n",
    "k_values = [8, 32, 64]\n",
    "compressed_images = []\n",
    "for k in k_values:\n",
    "    img_k = kmeans_compress(X, k, img_shape)\n",
    "    compressed_images.append(img_k)"
   ]
  },
  {
   "cell_type": "markdown",
   "id": "b533edfc",
   "metadata": {},
   "source": [
    "## 5. Visualizar Imágenes Comprimidas para Cada K\n",
    "Mostramos las imágenes comprimidas para cada valor de K."
   ]
  },
  {
   "cell_type": "code",
   "execution_count": 6,
   "id": "883ccb90",
   "metadata": {},
   "outputs": [
    {
     "name": "stdout",
     "output_type": "stream",
     "text": [
      "K = 8\n",
      "K = 32\n",
      "K = 64\n"
     ]
    }
   ],
   "source": [
    "# Mostrar imágenes comprimidas para cada K\n",
    "for i, k in enumerate(k_values):\n",
    "    print(f\"K = {k}\")\n",
    "    Image.fromarray(compressed_images[i]).show()"
   ]
  },
  {
   "cell_type": "markdown",
   "id": "365373d2",
   "metadata": {},
   "source": [
    "## 6. Comparar Resultados y Analizar Efecto de K\n",
    "\n",
    "**¿Cómo cambia la calidad visual?**\n",
    "- La calidad visual mejora al aumentar K, ya que se representan más colores y detalles. Con K pequeño, la imagen se ve más \"plana\" y con menos definición.\n",
    "\n",
    "**¿Qué pasa con muy pocos o muchos colores?**\n",
    "- Pocos colores (K bajo): la imagen pierde detalles y se ve artificial.\n",
    "- Muchos colores (K alto): la imagen se parece más a la original, pero la compresión es menor.\n",
    "\n",
    "---\n",
    "\n",
    "### Reflexión final\n",
    "\n",
    "**¿Qué aprendiste sobre cómo K-Means representa datos complejos?**\n",
    "- K-Means agrupa datos similares y permite simplificar la representación de datos complejos, como imágenes, usando solo los centroides de cada grupo.\n",
    "\n",
    "**¿Qué aplicaciones reales puede tener además de la compresión de imágenes?**\n",
    "- Segmentación de clientes, agrupación de documentos, análisis de datos biomédicos, reducción de colores en diseño gráfico, agrupación de sensores en IoT, y preprocesamiento para otros algoritmos de machine learning."
   ]
  }
 ],
 "metadata": {
  "kernelspec": {
   "display_name": ".venv",
   "language": "python",
   "name": "python3"
  },
  "language_info": {
   "codemirror_mode": {
    "name": "ipython",
    "version": 3
   },
   "file_extension": ".py",
   "mimetype": "text/x-python",
   "name": "python",
   "nbconvert_exporter": "python",
   "pygments_lexer": "ipython3",
   "version": "3.13.2"
  }
 },
 "nbformat": 4,
 "nbformat_minor": 5
}
