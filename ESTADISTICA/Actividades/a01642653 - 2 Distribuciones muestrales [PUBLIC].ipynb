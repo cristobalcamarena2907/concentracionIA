{
  "nbformat": 4,
  "nbformat_minor": 0,
  "metadata": {
    "colab": {
      "provenance": []
    },
    "kernelspec": {
      "name": "python3",
      "display_name": "Python 3"
    },
    "language_info": {
      "name": "python"
    }
  },
  "cells": [
    {
      "cell_type": "markdown",
      "source": [
        "A01637721\n",
        "\n",
        "A01642653"
      ],
      "metadata": {
        "id": "4ntSt6SwTcjo"
      }
    },
    {
      "cell_type": "markdown",
      "source": [
        "# Modelado de distribuciones\n",
        "\n",
        "Las distribuciones que hemos utilizado hasta ahora se denominan distribuciones empíricas porque se basan en observaciones empíricas, es decir, en datos. Muchos conjuntos de datos que vemos en el mundo real pueden aproximarse estrechamente a una distribución teórica, que suele basarse en una función matemática simple.\n",
        "\n",
        "Como ejemplos, veremos que:\n",
        "\n",
        "*    En una **competición de tiro al plato**, el número de aciertos y fallos se modela bien mediante una **distribución binomial**.\n",
        "\n",
        "*    En deportes como el **hockey** y el **fútbol**, el número de goles en un partido sigue una **distribución de Poisson**, y el tiempo entre goles sigue una **distribución exponencial**.\n",
        "\n",
        "*    El **peso al nacer** sigue una **distribución normal**, también llamada gaussiana, y el **peso en la edad adulta** sigue una **distribución lognormal**.\n",
        "\n",
        "Para cada ejemplo, comenzaremos con una simulación basada en un modelo simple y mostraremos que los resultados de la simulación siguen una distribución teórica. A continuación, veremos en qué medida los datos reales concuerdan con el modelo."
      ],
      "metadata": {
        "id": "2w3Kswr_AVGe"
      }
    },
    {
      "cell_type": "code",
      "execution_count": 10,
      "metadata": {
        "id": "-CLKk8cV_aG9"
      },
      "outputs": [],
      "source": [
        "import numpy as np\n",
        "import pandas as pd\n",
        "import matplotlib.pyplot as plt"
      ]
    },
    {
      "cell_type": "markdown",
      "source": [
        "# Algunas Herramientas..."
      ],
      "metadata": {
        "id": "__6ciWeHHax4"
      }
    },
    {
      "cell_type": "code",
      "source": [
        "def from_seq(seq, name=None, normalize=True, sort=True, ascending=True, dropna=True, na_position=\"last\", convert_to=\"PMF\"):\n",
        "  \"\"\"Crea un PMF a partir de una secuencia de valores.\n",
        "  Args:\n",
        "      seq: iterable\n",
        "      normalize: si se debe normalizar la serie (i.e, Pmf), por defecto True\n",
        "      sort: si se debe ordenar la serie por valores, por defecto True\n",
        "      ascending: si se debe ordenar en orden ascendente, por defecto True\n",
        "      dropna: si se deben eliminar los valores NaN, por defecto True\n",
        "      na_position: si es 'first', coloca los NaNs al principio;\n",
        "                  si es 'last', coloca los NaNs al final.\n",
        "      convert_to: si es 'Freq', Crea una tabla de frecuencia;\n",
        "                  si es 'PMF' (default), crea una funcion de masa de probabilidad;\n",
        "                  si es 'CDF', crea una función de distribución acumulada.\n",
        "\n",
        "  Returns: pd.Series\n",
        "  \"\"\"\n",
        "  if convert_to == \"Freq\":\n",
        "    normalize=False\n",
        "\n",
        "  # compute the value counts\n",
        "  series = pd.Series(seq, name=name).value_counts(normalize=normalize, sort=sort, dropna=dropna)\n",
        "\n",
        "  # sort in place, if desired\n",
        "  if sort:\n",
        "    series.sort_index(inplace=True, ascending=ascending, na_position=na_position)\n",
        "\n",
        "  if convert_to == \"CDF\":\n",
        "    series = np.cumsum(series)\n",
        "\n",
        "  return series\n",
        "\n",
        "def get_qs(Tab):\n",
        "    \"\"\"Obtener las cantidades.\n",
        "\n",
        "    Returns: NumPy array\n",
        "    \"\"\"\n",
        "    return Tab.index.values\n",
        "\n",
        "def get_ps(Tab):\n",
        "    \"\"\"Obtener las probabilidades.\n",
        "\n",
        "    Returns: NumPy array\n",
        "    \"\"\"\n",
        "    return Tab.values\n",
        "\n",
        "def plot_bar(Tab, xlabel=\"x\", ylabel=\"y\", title=\"tittle\"):\n",
        "    \"\"\"Crea un gráfico de barras.\n",
        "\n",
        "    Args:\n",
        "        kwargs: se pasa a plt.bar\n",
        "    \"\"\"\n",
        "    qs = get_qs(Tab)\n",
        "    ps = get_ps(Tab)\n",
        "\n",
        "    plt.bar(qs, ps)\n",
        "\n",
        "    plt.xlabel(xlabel)\n",
        "    plt.ylabel(ylabel)\n",
        "    plt.title(title)\n",
        "\n",
        "def plot_two_bars(Tab, Tab2, labels=None, xlabel=\"x\", ylabel=\"y\", title=\"tittle\", width=0.45):\n",
        "    \"\"\"Crea un gráfico comparativo de dos barras.\n",
        "    Args:\n",
        "        Tab: PMF de distribucion que presuntamente se aproxima al comportamiento de los datos\n",
        "        Tab2: PMF de los datos a analisar\n",
        "        labels: Etiquetas a ser mostradas en el grafico, i.e., modelo y datos.\n",
        "        xlabel: Etiqueta a mostrar en el eje x\n",
        "        ylabel: Etiqueta a mostrar en el eje y\n",
        "        tittle: Titulo que aparecera en el grafico.\n",
        "    \"\"\"\n",
        "    plt.figure(figsize=(8, 5))\n",
        "\n",
        "    qs = get_qs(Tab)\n",
        "    ps = get_ps(Tab)\n",
        "\n",
        "    plt.bar(qs, ps, align=\"edge\", width=-width, label=labels[0])\n",
        "\n",
        "    qs = get_qs(Tab2)\n",
        "    ps = get_ps(Tab2)\n",
        "\n",
        "    plt.bar(qs, ps, align=\"edge\", width=width, label=labels[1])\n",
        "\n",
        "    plt.xlabel(xlabel)\n",
        "    plt.ylabel(ylabel)\n",
        "    plt.title(title)\n",
        "    plt.legend()\n",
        "    plt.grid(axis='y', linestyle='--', alpha=0.6)\n",
        "\n",
        "def plot_cdf_plots(cdf_model, cdf_data, labels=[\"model\", \"data\"], xlabel=\"x\", ylabel=\"CDF\", title=\"\"):\n",
        "    \"\"\"Crea un gráfico comparativo de dos CDFs.\n",
        "    Args:\n",
        "        cdf_model: CDF de distribucion que presuntamente se aproxima al comportamiento de los datos\n",
        "        cdf_data: CDF de los datos a analisar\n",
        "        labels: Etiquetas a ser mostradas en el grafico, i.e., modelo y datos.\n",
        "        xlabel: Etiqueta a mostrar en el eje x\n",
        "        ylabel: Etiqueta a mostrar en el eje y\n",
        "        tittle: Titulo que aparecera en el grafico.\n",
        "    \"\"\"\n",
        "    plt.figure(figsize=(8, 5))\n",
        "\n",
        "    plt.plot(get_qs(cdf_model),get_ps(cdf_model), linestyle=\":\", color=\"gray\", label=labels[0])\n",
        "    plt.plot(get_qs(cdf_data),get_ps(cdf_data), label=labels[1])\n",
        "\n",
        "    plt.xlabel(xlabel)\n",
        "    plt.ylabel(ylabel)\n",
        "    plt.title(title)\n",
        "    plt.legend()"
      ],
      "metadata": {
        "id": "XjUZSWeMJ_Ca"
      },
      "execution_count": 11,
      "outputs": []
    },
    {
      "cell_type": "markdown",
      "source": [
        "---\n",
        "\n",
        "## La distribución binomial\n",
        "\n",
        "Como primer ejemplo, consideraremos el deporte del [tiro al plato](https://en.wikipedia.org/wiki/Skeet_shooting), en el que los competidores utilizan escopetas para disparar a discos de arcilla que se lanzan al aire.\n",
        "En las competiciones internacionales, incluidas las Olimpiadas, hay cinco rondas con 25 blancos por ronda, con rondas adicionales según sea necesario para determinar un ganador.\n"
      ],
      "metadata": {
        "id": "Jh6Uru9UBVRH"
      }
    },
    {
      "cell_type": "markdown",
      "source": [
        "Como modelo, supongamos que todos los participantes tienen la misma probabilidad, `p`, de acertar en todos los blancos.\n",
        "\n",
        "<br>\n",
        "\n",
        "Por supuesto, este modelo es una simplificación: en realidad, algunos competidores tienen una probabilidad mayor que otros, e incluso para un mismo competidor, puede variar de un intento a otro.\n",
        "Pero, aunque no sea realista, este modelo hace algunas predicciones sorprendentemente precisas, como veremos.\n",
        "\n",
        "<br>\n",
        "\n",
        "Para simular el modelo, utilizaré la siguiente función, que toma el número de blancos (platos), `n`, y la probabilidad de acertar a cada uno, `p`, y devuelve una secuencia de 1 y 0 para indicar los aciertos y los fallos."
      ],
      "metadata": {
        "id": "Dz7g5KI7BY9l"
      }
    },
    {
      "cell_type": "code",
      "source": [
        "def flip(n, p):\n",
        "    choices = [1, 0]\n",
        "    probs = [p, 1 - p]\n",
        "    return np.random.choice(choices, n, p=probs)"
      ],
      "metadata": {
        "id": "koasZEKoA9jK"
      },
      "execution_count": 12,
      "outputs": []
    },
    {
      "cell_type": "code",
      "source": [
        "# Inicializa el generador de números aleatorios para que obtengamos los mismos resultados cada vez.\n",
        "np.random.seed(1)"
      ],
      "metadata": {
        "id": "fdjC75H3DCS8"
      },
      "execution_count": 13,
      "outputs": []
    },
    {
      "cell_type": "markdown",
      "source": [
        "Aquí hay un ejemplo que simula una ronda de 25 objetivos en la que la probabilidad de acertar cada uno es del 90%."
      ],
      "metadata": {
        "id": "8hMzYuSpDG2u"
      }
    },
    {
      "cell_type": "code",
      "source": [
        "objetivos = 25\n",
        "prob = 0.9\n",
        "\n",
        "flip(objetivos, prob)"
      ],
      "metadata": {
        "id": "sOrFdnIDA9lJ",
        "colab": {
          "base_uri": "https://localhost:8080/"
        },
        "outputId": "242e08bb-e342-4c98-b7ba-82cd5d1b14af"
      },
      "execution_count": 14,
      "outputs": [
        {
          "output_type": "execute_result",
          "data": {
            "text/plain": [
              "array([1, 1, 1, 1, 1, 1, 1, 1, 1, 1, 1, 1, 1, 1, 1, 1, 1, 1, 1, 1, 1, 0,\n",
              "       1, 1, 1])"
            ]
          },
          "metadata": {},
          "execution_count": 14
        }
      ]
    },
    {
      "cell_type": "markdown",
      "source": [
        "Si generamos una secuencia más larga y calculamos la `Pmf` de los resultados, podemos confirmar que las proporciones de 1 y 0 son correctas, al menos aproximadamente."
      ],
      "metadata": {
        "id": "3-FxX5vRDS_G"
      }
    },
    {
      "cell_type": "code",
      "source": [
        "seq = flip(1000, 0.9)\n",
        "pmf = from_seq(seq, convert_to=\"PMF\")\n",
        "\n",
        "pmf"
      ],
      "metadata": {
        "id": "cHy03PiWN_oS",
        "colab": {
          "base_uri": "https://localhost:8080/",
          "height": 147
        },
        "outputId": "8a989283-2088-4a7d-a620-82eda32496e5"
      },
      "execution_count": 15,
      "outputs": [
        {
          "output_type": "execute_result",
          "data": {
            "text/plain": [
              "0    0.101\n",
              "1    0.899\n",
              "Name: proportion, dtype: float64"
            ],
            "text/html": [
              "<div>\n",
              "<style scoped>\n",
              "    .dataframe tbody tr th:only-of-type {\n",
              "        vertical-align: middle;\n",
              "    }\n",
              "\n",
              "    .dataframe tbody tr th {\n",
              "        vertical-align: top;\n",
              "    }\n",
              "\n",
              "    .dataframe thead th {\n",
              "        text-align: right;\n",
              "    }\n",
              "</style>\n",
              "<table border=\"1\" class=\"dataframe\">\n",
              "  <thead>\n",
              "    <tr style=\"text-align: right;\">\n",
              "      <th></th>\n",
              "      <th>proportion</th>\n",
              "    </tr>\n",
              "  </thead>\n",
              "  <tbody>\n",
              "    <tr>\n",
              "      <th>0</th>\n",
              "      <td>0.101</td>\n",
              "    </tr>\n",
              "    <tr>\n",
              "      <th>1</th>\n",
              "      <td>0.899</td>\n",
              "    </tr>\n",
              "  </tbody>\n",
              "</table>\n",
              "</div><br><label><b>dtype:</b> float64</label>"
            ]
          },
          "metadata": {},
          "execution_count": 15
        }
      ]
    },
    {
      "cell_type": "markdown",
      "source": [
        "Ahora podemos usar la funcion `flip` para simular una sola ronda de tiro al plato y devolver el número de aciertos."
      ],
      "metadata": {
        "id": "vQbqsSn9C9xy"
      }
    },
    {
      "cell_type": "code",
      "source": [
        "def simulate_round(n, p):\n",
        "    seq = flip(n, p)\n",
        "    return seq.sum()"
      ],
      "metadata": {
        "id": "i4f06OAIDv2A"
      },
      "execution_count": 16,
      "outputs": []
    },
    {
      "cell_type": "markdown",
      "source": [
        "En una competición grande, supongamos que 200 competidores disparan 5 rondas cada uno (200 $\\times$ 5 = 1,000 resultados), todos con la misma probabilidad de dar en el blanco, `p=0.9`.\n",
        "\n",
        "Podemos simular una competición como esa llamando a `simulate_round` 1000 veces."
      ],
      "metadata": {
        "id": "7DFzpHIEDNGo"
      }
    },
    {
      "cell_type": "code",
      "source": [
        "n = 25\n",
        "p = 0.9\n",
        "results_sim = [simulate_round(n, p) for i in range(1000)]"
      ],
      "metadata": {
        "id": "JQnlcYTyDU8J"
      },
      "execution_count": 17,
      "outputs": []
    },
    {
      "cell_type": "code",
      "source": [
        "print(f\"Calculo: {np.mean(results_sim).item()}, Teorico: {n * p}\")"
      ],
      "metadata": {
        "id": "qSsm_10QDV45",
        "colab": {
          "base_uri": "https://localhost:8080/"
        },
        "outputId": "c5b8d564-31c2-4441-a015-7664b020d527"
      },
      "execution_count": 18,
      "outputs": [
        {
          "output_type": "stream",
          "name": "stdout",
          "text": [
            "Calculo: 22.522, Teorico: 22.5\n"
          ]
        }
      ]
    },
    {
      "cell_type": "markdown",
      "source": [
        "La puntuación media es cercana a `22.5`, que es el producto de `n` y `p`.\n",
        "\n",
        "Así es como se ve la distribución de los resultados."
      ],
      "metadata": {
        "id": "apzawaU9FZZ7"
      }
    },
    {
      "cell_type": "code",
      "source": [
        "pmf_sim = from_seq(results_sim)\n",
        "pmf_sim"
      ],
      "metadata": {
        "id": "LEa_7w8vYjqh",
        "colab": {
          "base_uri": "https://localhost:8080/",
          "height": 366
        },
        "outputId": "d9da7b9a-fbd7-4629-8a45-c2cf6098f489"
      },
      "execution_count": 19,
      "outputs": [
        {
          "output_type": "execute_result",
          "data": {
            "text/plain": [
              "17    0.001\n",
              "18    0.012\n",
              "19    0.019\n",
              "20    0.054\n",
              "21    0.142\n",
              "22    0.237\n",
              "23    0.256\n",
              "24    0.211\n",
              "25    0.068\n",
              "Name: proportion, dtype: float64"
            ],
            "text/html": [
              "<div>\n",
              "<style scoped>\n",
              "    .dataframe tbody tr th:only-of-type {\n",
              "        vertical-align: middle;\n",
              "    }\n",
              "\n",
              "    .dataframe tbody tr th {\n",
              "        vertical-align: top;\n",
              "    }\n",
              "\n",
              "    .dataframe thead th {\n",
              "        text-align: right;\n",
              "    }\n",
              "</style>\n",
              "<table border=\"1\" class=\"dataframe\">\n",
              "  <thead>\n",
              "    <tr style=\"text-align: right;\">\n",
              "      <th></th>\n",
              "      <th>proportion</th>\n",
              "    </tr>\n",
              "  </thead>\n",
              "  <tbody>\n",
              "    <tr>\n",
              "      <th>17</th>\n",
              "      <td>0.001</td>\n",
              "    </tr>\n",
              "    <tr>\n",
              "      <th>18</th>\n",
              "      <td>0.012</td>\n",
              "    </tr>\n",
              "    <tr>\n",
              "      <th>19</th>\n",
              "      <td>0.019</td>\n",
              "    </tr>\n",
              "    <tr>\n",
              "      <th>20</th>\n",
              "      <td>0.054</td>\n",
              "    </tr>\n",
              "    <tr>\n",
              "      <th>21</th>\n",
              "      <td>0.142</td>\n",
              "    </tr>\n",
              "    <tr>\n",
              "      <th>22</th>\n",
              "      <td>0.237</td>\n",
              "    </tr>\n",
              "    <tr>\n",
              "      <th>23</th>\n",
              "      <td>0.256</td>\n",
              "    </tr>\n",
              "    <tr>\n",
              "      <th>24</th>\n",
              "      <td>0.211</td>\n",
              "    </tr>\n",
              "    <tr>\n",
              "      <th>25</th>\n",
              "      <td>0.068</td>\n",
              "    </tr>\n",
              "  </tbody>\n",
              "</table>\n",
              "</div><br><label><b>dtype:</b> float64</label>"
            ]
          },
          "metadata": {},
          "execution_count": 19
        }
      ]
    },
    {
      "cell_type": "code",
      "source": [
        "pmf_sim.index"
      ],
      "metadata": {
        "id": "R-Y1Mk-rNGNG",
        "colab": {
          "base_uri": "https://localhost:8080/"
        },
        "outputId": "6f17071a-9c44-43dd-d5a7-7a9c6b924b68"
      },
      "execution_count": 20,
      "outputs": [
        {
          "output_type": "execute_result",
          "data": {
            "text/plain": [
              "Index([17, 18, 19, 20, 21, 22, 23, 24, 25], dtype='int64')"
            ]
          },
          "metadata": {},
          "execution_count": 20
        }
      ]
    },
    {
      "cell_type": "code",
      "source": [
        "len(pmf_sim)"
      ],
      "metadata": {
        "id": "cIU2LL_CaaFv",
        "colab": {
          "base_uri": "https://localhost:8080/"
        },
        "outputId": "5fb9f3fc-b2f9-4df8-efcc-afbfd7b54734"
      },
      "execution_count": 21,
      "outputs": [
        {
          "output_type": "execute_result",
          "data": {
            "text/plain": [
              "9"
            ]
          },
          "metadata": {},
          "execution_count": 21
        }
      ]
    },
    {
      "cell_type": "code",
      "source": [
        "plot_bar(pmf_sim, xlabel='Hits', ylabel='PMF', title='Resultado de simulacion')\n",
        "plt.show()"
      ],
      "metadata": {
        "id": "I1doL7JmJ_Gu",
        "colab": {
          "base_uri": "https://localhost:8080/",
          "height": 472
        },
        "outputId": "32a7126e-42be-4134-ff2d-435c5014e97c"
      },
      "execution_count": 22,
      "outputs": [
        {
          "output_type": "display_data",
          "data": {
            "text/plain": [
              "<Figure size 640x480 with 1 Axes>"
            ],
            "image/png": "[encoded data removed]"
          },
          "metadata": {}
        }
      ]
    },
    {
      "cell_type": "markdown",
      "source": [
        "El pico está cerca de la media (`22.5`) y la distribución está **sesgada hacia la izquierda**."
      ],
      "metadata": {
        "id": "M3FxmhFBSTpE"
      }
    },
    {
      "cell_type": "markdown",
      "source": [
        "En lugar de realizar una simulación, podríamos haber predicho esta distribución.\n",
        "Matemáticamente, la distribución de estos resultados sigue una **distribución binomial**, que tiene una PMF fácil de calcular.\n",
        "\n",
        "Recordemos que la función de masa de probabilidad (PMF) de una distribución binomial se expresa como:\n",
        "\n",
        "$$\n",
        "P(X = k) = \\binom{n}{k} p^k (1 - p)^{n - k}\n",
        "$$\n",
        "\n",
        "donde:\n",
        "\n",
        "- $P(X = k)$: probabilidad de obtener exactamente \\( k \\) éxitos en \\( n \\) ensayos,\n",
        "- $\\binom{n}{k} = \\frac{n!}{k!(n-k)!}$: coeficiente binomial,\n",
        "- $p$: probabilidad de éxito en un ensayo,\n",
        "- $(1 - p)$: probabilidad de fracaso,\n",
        "- $k$: número de éxitos deseados,\n",
        "- $n$: número total de ensayos."
      ],
      "metadata": {
        "id": "yHgwBnxXTAvD"
      }
    },
    {
      "cell_type": "markdown",
      "source": [
        "La libreria `SciPy` proporciona la función `comb`, que calcula el número de combinaciones de `n` elementos tomando `k` a la vez.\n",
        "\n",
        "La funcion `binomial_pmf` calcula la probabilidad de obtener `k` aciertos de `n` intentos, dado `p`.\n",
        "Si llamamos a esta función con un rango de valores `k`, podemos crear un `Pmf` que represente la distribución de los resultados."
      ],
      "metadata": {
        "id": "3k5gvJePVX9B"
      }
    },
    {
      "cell_type": "code",
      "source": [
        "from scipy.special import comb\n",
        "\n",
        "def binomial_pmf(k, n, p):\n",
        "    return comb(n, k) * (p**k) * ((1 - p) ** (n - k))"
      ],
      "metadata": {
        "id": "_wAc6LXTDV-p"
      },
      "execution_count": 23,
      "outputs": []
    },
    {
      "cell_type": "code",
      "source": [
        "ks = np.arange(16, n + 1)\n",
        "ps = binomial_pmf(ks, n, p)\n",
        "\n",
        "pmf_binom = pd.Series(data=ps, index=ks, name=\"binomial model\")\n",
        "pmf_binom"
      ],
      "metadata": {
        "id": "pJHK1dY_VXZZ",
        "colab": {
          "base_uri": "https://localhost:8080/",
          "height": 397
        },
        "outputId": "ffa3b6ad-d517-4ef1-9f93-d5ca5023f884"
      },
      "execution_count": 24,
      "outputs": [
        {
          "output_type": "execute_result",
          "data": {
            "text/plain": [
              "16    0.000379\n",
              "17    0.001804\n",
              "18    0.007215\n",
              "19    0.023924\n",
              "20    0.064594\n",
              "21    0.138415\n",
              "22    0.226497\n",
              "23    0.265888\n",
              "24    0.199416\n",
              "25    0.071790\n",
              "Name: binomial model, dtype: float64"
            ],
            "text/html": [
              "<div>\n",
              "<style scoped>\n",
              "    .dataframe tbody tr th:only-of-type {\n",
              "        vertical-align: middle;\n",
              "    }\n",
              "\n",
              "    .dataframe tbody tr th {\n",
              "        vertical-align: top;\n",
              "    }\n",
              "\n",
              "    .dataframe thead th {\n",
              "        text-align: right;\n",
              "    }\n",
              "</style>\n",
              "<table border=\"1\" class=\"dataframe\">\n",
              "  <thead>\n",
              "    <tr style=\"text-align: right;\">\n",
              "      <th></th>\n",
              "      <th>binomial model</th>\n",
              "    </tr>\n",
              "  </thead>\n",
              "  <tbody>\n",
              "    <tr>\n",
              "      <th>16</th>\n",
              "      <td>0.000379</td>\n",
              "    </tr>\n",
              "    <tr>\n",
              "      <th>17</th>\n",
              "      <td>0.001804</td>\n",
              "    </tr>\n",
              "    <tr>\n",
              "      <th>18</th>\n",
              "      <td>0.007215</td>\n",
              "    </tr>\n",
              "    <tr>\n",
              "      <th>19</th>\n",
              "      <td>0.023924</td>\n",
              "    </tr>\n",
              "    <tr>\n",
              "      <th>20</th>\n",
              "      <td>0.064594</td>\n",
              "    </tr>\n",
              "    <tr>\n",
              "      <th>21</th>\n",
              "      <td>0.138415</td>\n",
              "    </tr>\n",
              "    <tr>\n",
              "      <th>22</th>\n",
              "      <td>0.226497</td>\n",
              "    </tr>\n",
              "    <tr>\n",
              "      <th>23</th>\n",
              "      <td>0.265888</td>\n",
              "    </tr>\n",
              "    <tr>\n",
              "      <th>24</th>\n",
              "      <td>0.199416</td>\n",
              "    </tr>\n",
              "    <tr>\n",
              "      <th>25</th>\n",
              "      <td>0.071790</td>\n",
              "    </tr>\n",
              "  </tbody>\n",
              "</table>\n",
              "</div><br><label><b>dtype:</b> float64</label>"
            ]
          },
          "metadata": {},
          "execution_count": 24
        }
      ]
    },
    {
      "cell_type": "code",
      "source": [
        "pmf_sim"
      ],
      "metadata": {
        "id": "SF7uKhbev0QA",
        "colab": {
          "base_uri": "https://localhost:8080/",
          "height": 366
        },
        "outputId": "3599617d-5027-47b7-896d-52af1e8dbcb0"
      },
      "execution_count": 25,
      "outputs": [
        {
          "output_type": "execute_result",
          "data": {
            "text/plain": [
              "17    0.001\n",
              "18    0.012\n",
              "19    0.019\n",
              "20    0.054\n",
              "21    0.142\n",
              "22    0.237\n",
              "23    0.256\n",
              "24    0.211\n",
              "25    0.068\n",
              "Name: proportion, dtype: float64"
            ],
            "text/html": [
              "<div>\n",
              "<style scoped>\n",
              "    .dataframe tbody tr th:only-of-type {\n",
              "        vertical-align: middle;\n",
              "    }\n",
              "\n",
              "    .dataframe tbody tr th {\n",
              "        vertical-align: top;\n",
              "    }\n",
              "\n",
              "    .dataframe thead th {\n",
              "        text-align: right;\n",
              "    }\n",
              "</style>\n",
              "<table border=\"1\" class=\"dataframe\">\n",
              "  <thead>\n",
              "    <tr style=\"text-align: right;\">\n",
              "      <th></th>\n",
              "      <th>proportion</th>\n",
              "    </tr>\n",
              "  </thead>\n",
              "  <tbody>\n",
              "    <tr>\n",
              "      <th>17</th>\n",
              "      <td>0.001</td>\n",
              "    </tr>\n",
              "    <tr>\n",
              "      <th>18</th>\n",
              "      <td>0.012</td>\n",
              "    </tr>\n",
              "    <tr>\n",
              "      <th>19</th>\n",
              "      <td>0.019</td>\n",
              "    </tr>\n",
              "    <tr>\n",
              "      <th>20</th>\n",
              "      <td>0.054</td>\n",
              "    </tr>\n",
              "    <tr>\n",
              "      <th>21</th>\n",
              "      <td>0.142</td>\n",
              "    </tr>\n",
              "    <tr>\n",
              "      <th>22</th>\n",
              "      <td>0.237</td>\n",
              "    </tr>\n",
              "    <tr>\n",
              "      <th>23</th>\n",
              "      <td>0.256</td>\n",
              "    </tr>\n",
              "    <tr>\n",
              "      <th>24</th>\n",
              "      <td>0.211</td>\n",
              "    </tr>\n",
              "    <tr>\n",
              "      <th>25</th>\n",
              "      <td>0.068</td>\n",
              "    </tr>\n",
              "  </tbody>\n",
              "</table>\n",
              "</div><br><label><b>dtype:</b> float64</label>"
            ]
          },
          "metadata": {},
          "execution_count": 25
        }
      ]
    },
    {
      "cell_type": "markdown",
      "source": [
        "Y así es como se ve en comparación con los resultados de la simulación."
      ],
      "metadata": {
        "id": "CXh2qqEK3guD"
      }
    },
    {
      "cell_type": "code",
      "source": [
        "plt.figure(figsize=(8, 5))\n",
        "\n",
        "plot_two_bars(pmf_sim, pmf_binom, labels=[\"resultados simulados\",\"modelo binomial\"], xlabel='Hits', ylabel='PMF', title='Resultado de simulacion')\n",
        "\n",
        "plt.show()"
      ],
      "metadata": {
        "id": "-HyikEF4YrqK",
        "colab": {
          "base_uri": "https://localhost:8080/",
          "height": 505
        },
        "outputId": "19df94ff-dcae-4baa-9ae1-74977d6ced0c"
      },
      "execution_count": 26,
      "outputs": [
        {
          "output_type": "display_data",
          "data": {
            "text/plain": [
              "<Figure size 800x500 with 0 Axes>"
            ]
          },
          "metadata": {}
        },
        {
          "output_type": "display_data",
          "data": {
            "text/plain": [
              "<Figure size 800x500 with 1 Axes>"
            ],
            "image/png": "[encoded data removed]"
          },
          "metadata": {}
        }
      ]
    },
    {
      "cell_type": "markdown",
      "source": [
        "Y así es como se ve en comparación con los resultados de la simulación.\n",
        "\n",
        "Son similares, con pequeñas diferencias debido a la variación aleatoria en los resultados de la simulación.\n",
        "Esta coincidencia no debería sorprender, ya que la simulación y el modelo se basan en los mismos supuestos, en particular el supuesto de que cada intento tiene la misma probabilidad de éxito.\n",
        "Una prueba más sólida de un modelo es cómo se compara con los datos reales.\n",
        "\n"
      ],
      "metadata": {
        "id": "bDpQ1TL33oQ-"
      }
    },
    {
      "cell_type": "markdown",
      "source": [
        "---\n",
        "\n",
        "# **EJEMPLO**\n",
        "\n",
        "\n",
        "De la página de Wikipedia sobre la competición masculina de tiro al plato en los Juegos Olímpicos de Verano de 2020, podemos extraer una tabla que muestra los resultados de las rondas de clasificación.\n",
        "Las instrucciones para descargar los datos se encuentran en este notebook, a continuacion:"
      ],
      "metadata": {
        "id": "4Fi1rKHm3oTy"
      }
    },
    {
      "cell_type": "markdown",
      "source": [
        "Descargar desde <https://en.wikipedia.org/wiki/Shooting_at_the_2020_Summer_Olympics_–_Men's_skeet>"
      ],
      "metadata": {
        "id": "ooMRVIX_4-Ss"
      }
    },
    {
      "cell_type": "code",
      "source": [
        "link = \"https://en.wikipedia.org/wiki/Shooting_at_the_2020_Summer_Olympics_%E2%80%93_Men%27s_skeet\"\n",
        "\n",
        "tables = pd.read_html(link)\n",
        "table = tables[6]\n",
        "table.head()"
      ],
      "metadata": {
        "id": "kYTzMO-w3KZA",
        "colab": {
          "base_uri": "https://localhost:8080/",
          "height": 206
        },
        "outputId": "76a8bc83-6338-4858-9b68-9e3b1e8a5cf7"
      },
      "execution_count": 27,
      "outputs": [
        {
          "output_type": "execute_result",
          "data": {
            "text/plain": [
              "   Rank              Athlete        Country   1   2   3   4   5 Total[3]  \\\n",
              "0     1        Éric Delaunay         France  25  25  25  24  25      124   \n",
              "1     2    Tammaro Cassandro          Italy  24  25  25  25  25      124   \n",
              "2     3      Eetu Kallioinen        Finland  25  25  24  25  24      123   \n",
              "3     4      Vincent Hancock  United States  25  25  25  25  22      122   \n",
              "4     5  Abdullah Al-Rashidi         Kuwait  25  25  24  25  23      122   \n",
              "\n",
              "  Shoot-off  Notes  \n",
              "0        +6  Q, OR  \n",
              "1        +5  Q, OR  \n",
              "2       NaN      Q  \n",
              "3        +8      Q  \n",
              "4        +7      Q  "
            ],
            "text/html": [
              "\n",
              "  <div id=\"df-ddace110-ed2d-4831-8bc3-a27925deca29\" class=\"colab-df-container\">\n",
              "    <div>\n",
              "<style scoped>\n",
              "    .dataframe tbody tr th:only-of-type {\n",
              "        vertical-align: middle;\n",
              "    }\n",
              "\n",
              "    .dataframe tbody tr th {\n",
              "        vertical-align: top;\n",
              "    }\n",
              "\n",
              "    .dataframe thead th {\n",
              "        text-align: right;\n",
              "    }\n",
              "</style>\n",
              "<table border=\"1\" class=\"dataframe\">\n",
              "  <thead>\n",
              "    <tr style=\"text-align: right;\">\n",
              "      <th></th>\n",
              "      <th>Rank</th>\n",
              "      <th>Athlete</th>\n",
              "      <th>Country</th>\n",
              "      <th>1</th>\n",
              "      <th>2</th>\n",
              "      <th>3</th>\n",
              "      <th>4</th>\n",
              "      <th>5</th>\n",
              "      <th>Total[3]</th>\n",
              "      <th>Shoot-off</th>\n",
              "      <th>Notes</th>\n",
              "    </tr>\n",
              "  </thead>\n",
              "  <tbody>\n",
              "    <tr>\n",
              "      <th>0</th>\n",
              "      <td>1</td>\n",
              "      <td>Éric Delaunay</td>\n",
              "      <td>France</td>\n",
              "      <td>25</td>\n",
              "      <td>25</td>\n",
              "      <td>25</td>\n",
              "      <td>24</td>\n",
              "      <td>25</td>\n",
              "      <td>124</td>\n",
              "      <td>+6</td>\n",
              "      <td>Q, OR</td>\n",
              "    </tr>\n",
              "    <tr>\n",
              "      <th>1</th>\n",
              "      <td>2</td>\n",
              "      <td>Tammaro Cassandro</td>\n",
              "      <td>Italy</td>\n",
              "      <td>24</td>\n",
              "      <td>25</td>\n",
              "      <td>25</td>\n",
              "      <td>25</td>\n",
              "      <td>25</td>\n",
              "      <td>124</td>\n",
              "      <td>+5</td>\n",
              "      <td>Q, OR</td>\n",
              "    </tr>\n",
              "    <tr>\n",
              "      <th>2</th>\n",
              "      <td>3</td>\n",
              "      <td>Eetu Kallioinen</td>\n",
              "      <td>Finland</td>\n",
              "      <td>25</td>\n",
              "      <td>25</td>\n",
              "      <td>24</td>\n",
              "      <td>25</td>\n",
              "      <td>24</td>\n",
              "      <td>123</td>\n",
              "      <td>NaN</td>\n",
              "      <td>Q</td>\n",
              "    </tr>\n",
              "    <tr>\n",
              "      <th>3</th>\n",
              "      <td>4</td>\n",
              "      <td>Vincent Hancock</td>\n",
              "      <td>United States</td>\n",
              "      <td>25</td>\n",
              "      <td>25</td>\n",
              "      <td>25</td>\n",
              "      <td>25</td>\n",
              "      <td>22</td>\n",
              "      <td>122</td>\n",
              "      <td>+8</td>\n",
              "      <td>Q</td>\n",
              "    </tr>\n",
              "    <tr>\n",
              "      <th>4</th>\n",
              "      <td>5</td>\n",
              "      <td>Abdullah Al-Rashidi</td>\n",
              "      <td>Kuwait</td>\n",
              "      <td>25</td>\n",
              "      <td>25</td>\n",
              "      <td>24</td>\n",
              "      <td>25</td>\n",
              "      <td>23</td>\n",
              "      <td>122</td>\n",
              "      <td>+7</td>\n",
              "      <td>Q</td>\n",
              "    </tr>\n",
              "  </tbody>\n",
              "</table>\n",
              "</div>\n",
              "    <div class=\"colab-df-buttons\">\n",
              "\n",
              "  <div class=\"colab-df-container\">\n",
              "    <button class=\"colab-df-convert\" onclick=\"convertToInteractive('df-ddace110-ed2d-4831-8bc3-a27925deca29')\"\n",
              "            title=\"Convert this dataframe to an interactive table.\"\n",
              "            style=\"display:none;\">\n",
              "\n",
              "  <svg xmlns=\"http://www.w3.org/2000/svg\" height=\"24px\" viewBox=\"0 -960 960 960\">\n",
              "    <path d=\"M120-120v-720h720v720H120Zm60-500h600v-160H180v160Zm220 220h160v-160H400v160Zm0 220h160v-160H400v160ZM180-400h160v-160H180v160Zm440 0h160v-160H620v160ZM180-180h160v-160H180v160Zm440 0h160v-160H620v160Z\"/>\n",
              "  </svg>\n",
              "    </button>\n",
              "\n",
              "  <style>\n",
              "    .colab-df-container {\n",
              "      display:flex;\n",
              "      gap: 12px;\n",
              "    }\n",
              "\n",
              "    .colab-df-convert {\n",
              "      background-color: #E8F0FE;\n",
              "      border: none;\n",
              "      border-radius: 50%;\n",
              "      cursor: pointer;\n",
              "      display: none;\n",
              "      fill: #1967D2;\n",
              "      height: 32px;\n",
              "      padding: 0 0 0 0;\n",
              "      width: 32px;\n",
              "    }\n",
              "\n",
              "    .colab-df-convert:hover {\n",
              "      background-color: #E2EBFA;\n",
              "      box-shadow: 0px 1px 2px rgba(60, 64, 67, 0.3), 0px 1px 3px 1px rgba(60, 64, 67, 0.15);\n",
              "      fill: #174EA6;\n",
              "    }\n",
              "\n",
              "    .colab-df-buttons div {\n",
              "      margin-bottom: 4px;\n",
              "    }\n",
              "\n",
              "    [theme=dark] .colab-df-convert {\n",
              "      background-color: #3B4455;\n",
              "      fill: #D2E3FC;\n",
              "    }\n",
              "\n",
              "    [theme=dark] .colab-df-convert:hover {\n",
              "      background-color: #434B5C;\n",
              "      box-shadow: 0px 1px 3px 1px rgba(0, 0, 0, 0.15);\n",
              "      filter: drop-shadow(0px 1px 2px rgba(0, 0, 0, 0.3));\n",
              "      fill: #FFFFFF;\n",
              "    }\n",
              "  </style>\n",
              "\n",
              "    <script>\n",
              "      const buttonEl =\n",
              "        document.querySelector('#df-ddace110-ed2d-4831-8bc3-a27925deca29 button.colab-df-convert');\n",
              "      buttonEl.style.display =\n",
              "        google.colab.kernel.accessAllowed ? 'block' : 'none';\n",
              "\n",
              "      async function convertToInteractive(key) {\n",
              "        const element = document.querySelector('#df-ddace110-ed2d-4831-8bc3-a27925deca29');\n",
              "        const dataTable =\n",
              "          await google.colab.kernel.invokeFunction('convertToInteractive',\n",
              "                                                    [key], {});\n",
              "        if (!dataTable) return;\n",
              "\n",
              "        const docLinkHtml = 'Like what you see? Visit the ' +\n",
              "          '<a target=\"_blank\" href=https://colab.research.google.com/notebooks/data_table.ipynb>data table notebook</a>'\n",
              "          + ' to learn more about interactive tables.';\n",
              "        element.innerHTML = '';\n",
              "        dataTable['output_type'] = 'display_data';\n",
              "        await google.colab.output.renderOutput(dataTable, element);\n",
              "        const docLink = document.createElement('div');\n",
              "        docLink.innerHTML = docLinkHtml;\n",
              "        element.appendChild(docLink);\n",
              "      }\n",
              "    </script>\n",
              "  </div>\n",
              "\n",
              "\n",
              "    <div id=\"df-085ac045-4f32-4ee3-9468-72583bd6ec56\">\n",
              "      <button class=\"colab-df-quickchart\" onclick=\"quickchart('df-085ac045-4f32-4ee3-9468-72583bd6ec56')\"\n",
              "                title=\"Suggest charts\"\n",
              "                style=\"display:none;\">\n",
              "\n",
              "<svg xmlns=\"http://www.w3.org/2000/svg\" height=\"24px\"viewBox=\"0 0 24 24\"\n",
              "     width=\"24px\">\n",
              "    <g>\n",
              "        <path d=\"M19 3H5c-1.1 0-2 .9-2 2v14c0 1.1.9 2 2 2h14c1.1 0 2-.9 2-2V5c0-1.1-.9-2-2-2zM9 17H7v-7h2v7zm4 0h-2V7h2v10zm4 0h-2v-4h2v4z\"/>\n",
              "    </g>\n",
              "</svg>\n",
              "      </button>\n",
              "\n",
              "<style>\n",
              "  .colab-df-quickchart {\n",
              "      --bg-color: #E8F0FE;\n",
              "      --fill-color: #1967D2;\n",
              "      --hover-bg-color: #E2EBFA;\n",
              "      --hover-fill-color: #174EA6;\n",
              "      --disabled-fill-color: #AAA;\n",
              "      --disabled-bg-color: #DDD;\n",
              "  }\n",
              "\n",
              "  [theme=dark] .colab-df-quickchart {\n",
              "      --bg-color: #3B4455;\n",
              "      --fill-color: #D2E3FC;\n",
              "      --hover-bg-color: #434B5C;\n",
              "      --hover-fill-color: #FFFFFF;\n",
              "      --disabled-bg-color: #3B4455;\n",
              "      --disabled-fill-color: #666;\n",
              "  }\n",
              "\n",
              "  .colab-df-quickchart {\n",
              "    background-color: var(--bg-color);\n",
              "    border: none;\n",
              "    border-radius: 50%;\n",
              "    cursor: pointer;\n",
              "    display: none;\n",
              "    fill: var(--fill-color);\n",
              "    height: 32px;\n",
              "    padding: 0;\n",
              "    width: 32px;\n",
              "  }\n",
              "\n",
              "  .colab-df-quickchart:hover {\n",
              "    background-color: var(--hover-bg-color);\n",
              "    box-shadow: 0 1px 2px rgba(60, 64, 67, 0.3), 0 1px 3px 1px rgba(60, 64, 67, 0.15);\n",
              "    fill: var(--button-hover-fill-color);\n",
              "  }\n",
              "\n",
              "  .colab-df-quickchart-complete:disabled,\n",
              "  .colab-df-quickchart-complete:disabled:hover {\n",
              "    background-color: var(--disabled-bg-color);\n",
              "    fill: var(--disabled-fill-color);\n",
              "    box-shadow: none;\n",
              "  }\n",
              "\n",
              "  .colab-df-spinner {\n",
              "    border: 2px solid var(--fill-color);\n",
              "    border-color: transparent;\n",
              "    border-bottom-color: var(--fill-color);\n",
              "    animation:\n",
              "      spin 1s steps(1) infinite;\n",
              "  }\n",
              "\n",
              "  @keyframes spin {\n",
              "    0% {\n",
              "      border-color: transparent;\n",
              "      border-bottom-color: var(--fill-color);\n",
              "      border-left-color: var(--fill-color);\n",
              "    }\n",
              "    20% {\n",
              "      border-color: transparent;\n",
              "      border-left-color: var(--fill-color);\n",
              "      border-top-color: var(--fill-color);\n",
              "    }\n",
              "    30% {\n",
              "      border-color: transparent;\n",
              "      border-left-color: var(--fill-color);\n",
              "      border-top-color: var(--fill-color);\n",
              "      border-right-color: var(--fill-color);\n",
              "    }\n",
              "    40% {\n",
              "      border-color: transparent;\n",
              "      border-right-color: var(--fill-color);\n",
              "      border-top-color: var(--fill-color);\n",
              "    }\n",
              "    60% {\n",
              "      border-color: transparent;\n",
              "      border-right-color: var(--fill-color);\n",
              "    }\n",
              "    80% {\n",
              "      border-color: transparent;\n",
              "      border-right-color: var(--fill-color);\n",
              "      border-bottom-color: var(--fill-color);\n",
              "    }\n",
              "    90% {\n",
              "      border-color: transparent;\n",
              "      border-bottom-color: var(--fill-color);\n",
              "    }\n",
              "  }\n",
              "</style>\n",
              "\n",
              "      <script>\n",
              "        async function quickchart(key) {\n",
              "          const quickchartButtonEl =\n",
              "            document.querySelector('#' + key + ' button');\n",
              "          quickchartButtonEl.disabled = true;  // To prevent multiple clicks.\n",
              "          quickchartButtonEl.classList.add('colab-df-spinner');\n",
              "          try {\n",
              "            const charts = await google.colab.kernel.invokeFunction(\n",
              "                'suggestCharts', [key], {});\n",
              "          } catch (error) {\n",
              "            console.error('Error during call to suggestCharts:', error);\n",
              "          }\n",
              "          quickchartButtonEl.classList.remove('colab-df-spinner');\n",
              "          quickchartButtonEl.classList.add('colab-df-quickchart-complete');\n",
              "        }\n",
              "        (() => {\n",
              "          let quickchartButtonEl =\n",
              "            document.querySelector('#df-085ac045-4f32-4ee3-9468-72583bd6ec56 button');\n",
              "          quickchartButtonEl.style.display =\n",
              "            google.colab.kernel.accessAllowed ? 'block' : 'none';\n",
              "        })();\n",
              "      </script>\n",
              "    </div>\n",
              "\n",
              "    </div>\n",
              "  </div>\n"
            ],
            "application/vnd.google.colaboratory.intrinsic+json": {
              "type": "dataframe",
              "variable_name": "table",
              "summary": "{\n  \"name\": \"table\",\n  \"rows\": 30,\n  \"fields\": [\n    {\n      \"column\": \"Rank\",\n      \"properties\": {\n        \"dtype\": \"number\",\n        \"std\": 8,\n        \"min\": 1,\n        \"max\": 30,\n        \"num_unique_values\": 30,\n        \"samples\": [\n          28,\n          16,\n          24\n        ],\n        \"semantic_type\": \"\",\n        \"description\": \"\"\n      }\n    },\n    {\n      \"column\": \"Athlete\",\n      \"properties\": {\n        \"dtype\": \"string\",\n        \"num_unique_values\": 30,\n        \"samples\": [\n          \"Lari Pesonen\",\n          \"Mansour Al-Rashedi\",\n          \"Saif Bin Futtais\"\n        ],\n        \"semantic_type\": \"\",\n        \"description\": \"\"\n      }\n    },\n    {\n      \"column\": \"Country\",\n      \"properties\": {\n        \"dtype\": \"string\",\n        \"num_unique_values\": 22,\n        \"samples\": [\n          \"France\",\n          \"Egypt\",\n          \"Cyprus\"\n        ],\n        \"semantic_type\": \"\",\n        \"description\": \"\"\n      }\n    },\n    {\n      \"column\": \"1\",\n      \"properties\": {\n        \"dtype\": \"number\",\n        \"std\": 0,\n        \"min\": 21,\n        \"max\": 25,\n        \"num_unique_values\": 4,\n        \"samples\": [\n          24,\n          21,\n          25\n        ],\n        \"semantic_type\": \"\",\n        \"description\": \"\"\n      }\n    },\n    {\n      \"column\": \"2\",\n      \"properties\": {\n        \"dtype\": \"number\",\n        \"std\": 0,\n        \"min\": 22,\n        \"max\": 25,\n        \"num_unique_values\": 4,\n        \"samples\": [\n          24,\n          22,\n          25\n        ],\n        \"semantic_type\": \"\",\n        \"description\": \"\"\n      }\n    },\n    {\n      \"column\": \"3\",\n      \"properties\": {\n        \"dtype\": \"number\",\n        \"std\": 0,\n        \"min\": 22,\n        \"max\": 25,\n        \"num_unique_values\": 4,\n        \"samples\": [\n          24,\n          22,\n          25\n        ],\n        \"semantic_type\": \"\",\n        \"description\": \"\"\n      }\n    },\n    {\n      \"column\": \"4\",\n      \"properties\": {\n        \"dtype\": \"number\",\n        \"std\": 0,\n        \"min\": 22,\n        \"max\": 25,\n        \"num_unique_values\": 4,\n        \"samples\": [\n          25,\n          22,\n          24\n        ],\n        \"semantic_type\": \"\",\n        \"description\": \"\"\n      }\n    },\n    {\n      \"column\": \"5\",\n      \"properties\": {\n        \"dtype\": \"number\",\n        \"std\": 1,\n        \"min\": 19,\n        \"max\": 25,\n        \"num_unique_values\": 6,\n        \"samples\": [\n          25,\n          24,\n          20\n        ],\n        \"semantic_type\": \"\",\n        \"description\": \"\"\n      }\n    },\n    {\n      \"column\": \"Total[3]\",\n      \"properties\": {\n        \"dtype\": \"string\",\n        \"num_unique_values\": 15,\n        \"samples\": [\n          \"119\",\n          \"116\",\n          \"124\"\n        ],\n        \"semantic_type\": \"\",\n        \"description\": \"\"\n      }\n    },\n    {\n      \"column\": \"Shoot-off\",\n      \"properties\": {\n        \"dtype\": \"category\",\n        \"num_unique_values\": 8,\n        \"samples\": [\n          \"+5\",\n          \"+5+8+19\",\n          \"+6\"\n        ],\n        \"semantic_type\": \"\",\n        \"description\": \"\"\n      }\n    },\n    {\n      \"column\": \"Notes\",\n      \"properties\": {\n        \"dtype\": \"category\",\n        \"num_unique_values\": 2,\n        \"samples\": [\n          \"Q\",\n          \"Q, OR\"\n        ],\n        \"semantic_type\": \"\",\n        \"description\": \"\"\n      }\n    }\n  ]\n}"
            }
          },
          "metadata": {},
          "execution_count": 27
        }
      ]
    },
    {
      "cell_type": "markdown",
      "source": [
        "## Objetivo\n",
        "\n",
        "La idea de este ejercicio es verificar si con una **distribución binomial teorica** podemos aproximarnos a la distribucion empírica del número de aciertos/fallos en una **competición de tiro al plato**\n",
        "\n",
        "<br>\n",
        "\n",
        "Para esto necesitaremos:\n",
        "- Procesar los datos para obtener la informacion requerida.\n",
        "- Calcular la probabilidad empirica de exito para modelar su distribucion.\n",
        "- Comparar la distribuciones (teorica y empirica) para verificar/rechazar la aproximacion."
      ],
      "metadata": {
        "id": "yg_qKJfGCBeQ"
      }
    },
    {
      "cell_type": "markdown",
      "source": [
        "La tabla tiene una fila para cada competidor, con una columna para cada una de las cinco rondas (1, 2, 3, 4, 5).\n",
        "\n",
        "<br>\n",
        "\n",
        "Selecciona sola las columnas que contienen estos resultados (1, 2, 3, 4, 5) y utiliza la función de `NumPy` llamada `flatten` para transformar la tabla de rondas en un solo vector."
      ],
      "metadata": {
        "id": "XGsPV65G58bm"
      }
    },
    {
      "cell_type": "code",
      "source": [
        "columns = [\"1\", \"2\", \"3\", \"4\", \"5\"]\n",
        "results = table[columns].values.flatten()\n",
        "print(\"Tamaño:\", results.shape)\n",
        "results"
      ],
      "metadata": {
        "id": "TEl7BTik6Gp2",
        "colab": {
          "base_uri": "https://localhost:8080/"
        },
        "outputId": "01e8ac2a-9c4c-484e-abee-de24248786cd"
      },
      "execution_count": 28,
      "outputs": [
        {
          "output_type": "stream",
          "name": "stdout",
          "text": [
            "Tamaño: (150,)\n"
          ]
        },
        {
          "output_type": "execute_result",
          "data": {
            "text/plain": [
              "array([25, 25, 25, 24, 25, 24, 25, 25, 25, 25, 25, 25, 24, 25, 24, 25, 25,\n",
              "       25, 25, 22, 25, 25, 24, 25, 23, 25, 24, 23, 25, 25, 24, 25, 25, 25,\n",
              "       23, 24, 24, 25, 25, 24, 25, 24, 24, 25, 24, 23, 25, 24, 24, 25, 23,\n",
              "       25, 24, 24, 25, 24, 25, 24, 23, 25, 24, 25, 24, 24, 24, 25, 24, 25,\n",
              "       23, 24, 24, 24, 23, 24, 25, 24, 24, 23, 24, 25, 25, 23, 25, 23, 24,\n",
              "       24, 25, 24, 23, 24, 25, 24, 24, 24, 23, 23, 24, 23, 24, 25, 25, 25,\n",
              "       23, 22, 24, 24, 24, 23, 25, 23, 25, 24, 23, 24, 23, 24, 23, 23, 23,\n",
              "       24, 25, 24, 22, 23, 23, 25, 23, 23, 22, 23, 23, 23, 23, 22, 23, 23,\n",
              "       25, 23, 24, 19, 23, 22, 22, 25, 20, 21, 22, 22, 23, 19])"
            ]
          },
          "metadata": {},
          "execution_count": 28
        }
      ]
    },
    {
      "cell_type": "markdown",
      "source": [
        "Con 5 rondas para cada uno de los 30 competidores, deberiamos obtener un vector de 150 rondas totales\n",
        "\n",
        "<br>\n",
        "\n",
        "Dados los resultados de estas 150 rondas de 25 tiros cada una,\n",
        "\n",
        "Calcule la tasa de éxito global, para esto:\n",
        "- Calcule la cantidad de puntos/aciertos maximos se pueden obtener en el total de las rondas.\n",
        "- Calcule la cantidad de puntos/aciertos que se obtuvieron en las rondas."
      ],
      "metadata": {
        "id": "dg7dXpmA58d7"
      }
    },
    {
      "cell_type": "code",
      "source": [
        "total_shots = 25 * len(results) # Aciertos maximos posibles\n",
        "total_hits = results.sum() # Aciertos obtenidos\n",
        "\n",
        "n, total_shots, total_hits.item()"
      ],
      "metadata": {
        "id": "kvm2_tGx9XgX",
        "colab": {
          "base_uri": "https://localhost:8080/"
        },
        "outputId": "ed7bb999-c766-4e0f-ea54-1d741f3375c7"
      },
      "execution_count": 29,
      "outputs": [
        {
          "output_type": "execute_result",
          "data": {
            "text/plain": [
              "(25, 3750, 3581)"
            ]
          },
          "metadata": {},
          "execution_count": 29
        }
      ]
    },
    {
      "cell_type": "markdown",
      "source": [
        "Por lo tanto, el calculo de la tasa de éxito global es del ___ %. Guardelo en una variable `p`."
      ],
      "metadata": {
        "id": "UHNdOXPg58gg"
      }
    },
    {
      "cell_type": "code",
      "source": [
        "p = total_hits / total_shots\n",
        "p.item()"
      ],
      "metadata": {
        "id": "UU6g97ey94YP",
        "colab": {
          "base_uri": "https://localhost:8080/"
        },
        "outputId": "1a3e5741-a155-46e0-83ae-c222f3334857"
      },
      "execution_count": 30,
      "outputs": [
        {
          "output_type": "execute_result",
          "data": {
            "text/plain": [
              "0.9549333333333333"
            ]
          },
          "metadata": {},
          "execution_count": 30
        }
      ]
    },
    {
      "cell_type": "markdown",
      "source": [
        "Ahora calculemos una **función de masa de probabilidad** (Pmf), definida anteriormente `binomial_pmf(k, n, p)`, que represente la distribución binomial de una ronda `n=25` y el valor de `p` que acabamos de calcular.\n",
        "\n",
        "<br>\n",
        "\n",
        "Convierta el resultado en una `Series` de la libreria `pandas`.\n",
        "\n"
      ],
      "metadata": {
        "id": "6f77TLyO58lM"
      }
    },
    {
      "cell_type": "code",
      "source": [
        "#ks = np.arange(16, n + 1)\n",
        "\n",
        "ps = binomial_pmf(ks, n, p)\n",
        "\n",
        "pmf_binom = pd.Series(data=ps, index=ks, name=\"modelo binomial\")\n",
        "pmf_binom"
      ],
      "metadata": {
        "id": "J_WyAZso_t6R",
        "colab": {
          "base_uri": "https://localhost:8080/",
          "height": 397
        },
        "outputId": "21b3bffc-be40-4613-c7ee-06da6d0f1313"
      },
      "execution_count": 31,
      "outputs": [
        {
          "output_type": "execute_result",
          "data": {
            "text/plain": [
              "16    7.490845e-07\n",
              "17    8.403149e-06\n",
              "18    7.913655e-05\n",
              "19    6.177876e-04\n",
              "20    3.927155e-03\n",
              "21    1.981282e-02\n",
              "22    7.633106e-02\n",
              "23    2.109659e-01\n",
              "24    3.725193e-01\n",
              "25    3.157376e-01\n",
              "Name: modelo binomial, dtype: float64"
            ],
            "text/html": [
              "<div>\n",
              "<style scoped>\n",
              "    .dataframe tbody tr th:only-of-type {\n",
              "        vertical-align: middle;\n",
              "    }\n",
              "\n",
              "    .dataframe tbody tr th {\n",
              "        vertical-align: top;\n",
              "    }\n",
              "\n",
              "    .dataframe thead th {\n",
              "        text-align: right;\n",
              "    }\n",
              "</style>\n",
              "<table border=\"1\" class=\"dataframe\">\n",
              "  <thead>\n",
              "    <tr style=\"text-align: right;\">\n",
              "      <th></th>\n",
              "      <th>modelo binomial</th>\n",
              "    </tr>\n",
              "  </thead>\n",
              "  <tbody>\n",
              "    <tr>\n",
              "      <th>16</th>\n",
              "      <td>7.490845e-07</td>\n",
              "    </tr>\n",
              "    <tr>\n",
              "      <th>17</th>\n",
              "      <td>8.403149e-06</td>\n",
              "    </tr>\n",
              "    <tr>\n",
              "      <th>18</th>\n",
              "      <td>7.913655e-05</td>\n",
              "    </tr>\n",
              "    <tr>\n",
              "      <th>19</th>\n",
              "      <td>6.177876e-04</td>\n",
              "    </tr>\n",
              "    <tr>\n",
              "      <th>20</th>\n",
              "      <td>3.927155e-03</td>\n",
              "    </tr>\n",
              "    <tr>\n",
              "      <th>21</th>\n",
              "      <td>1.981282e-02</td>\n",
              "    </tr>\n",
              "    <tr>\n",
              "      <th>22</th>\n",
              "      <td>7.633106e-02</td>\n",
              "    </tr>\n",
              "    <tr>\n",
              "      <th>23</th>\n",
              "      <td>2.109659e-01</td>\n",
              "    </tr>\n",
              "    <tr>\n",
              "      <th>24</th>\n",
              "      <td>3.725193e-01</td>\n",
              "    </tr>\n",
              "    <tr>\n",
              "      <th>25</th>\n",
              "      <td>3.157376e-01</td>\n",
              "    </tr>\n",
              "  </tbody>\n",
              "</table>\n",
              "</div><br><label><b>dtype:</b> float64</label>"
            ]
          },
          "metadata": {},
          "execution_count": 31
        }
      ]
    },
    {
      "cell_type": "markdown",
      "source": [
        "Y podemos compararla con la `Pmf` de los **resultados reales**. No olvides convertir los resultados reales en una `Series` de la libreria `pandas`, `from_seq`. Posteriormente, grafique en conjunto los resultados reales y el modelo binomial, `plot_two_bars`."
      ],
      "metadata": {
        "id": "C4VAj49w_ULU"
      }
    },
    {
      "cell_type": "code",
      "source": [
        "pmf_results = from_seq(results, name=\"resultados reales\", convert_to=\"PMF\")\n",
        "pmf_results"
      ],
      "metadata": {
        "id": "IZPxuypiMYZ3",
        "colab": {
          "base_uri": "https://localhost:8080/",
          "height": 335
        },
        "outputId": "d735572a-0193-4fec-c935-446a90ad1bb2"
      },
      "execution_count": 32,
      "outputs": [
        {
          "output_type": "execute_result",
          "data": {
            "text/plain": [
              "resultados reales\n",
              "19    0.013333\n",
              "20    0.006667\n",
              "21    0.006667\n",
              "22    0.060000\n",
              "23    0.240000\n",
              "24    0.326667\n",
              "25    0.346667\n",
              "Name: proportion, dtype: float64"
            ],
            "text/html": [
              "<div>\n",
              "<style scoped>\n",
              "    .dataframe tbody tr th:only-of-type {\n",
              "        vertical-align: middle;\n",
              "    }\n",
              "\n",
              "    .dataframe tbody tr th {\n",
              "        vertical-align: top;\n",
              "    }\n",
              "\n",
              "    .dataframe thead th {\n",
              "        text-align: right;\n",
              "    }\n",
              "</style>\n",
              "<table border=\"1\" class=\"dataframe\">\n",
              "  <thead>\n",
              "    <tr style=\"text-align: right;\">\n",
              "      <th></th>\n",
              "      <th>proportion</th>\n",
              "    </tr>\n",
              "    <tr>\n",
              "      <th>resultados reales</th>\n",
              "      <th></th>\n",
              "    </tr>\n",
              "  </thead>\n",
              "  <tbody>\n",
              "    <tr>\n",
              "      <th>19</th>\n",
              "      <td>0.013333</td>\n",
              "    </tr>\n",
              "    <tr>\n",
              "      <th>20</th>\n",
              "      <td>0.006667</td>\n",
              "    </tr>\n",
              "    <tr>\n",
              "      <th>21</th>\n",
              "      <td>0.006667</td>\n",
              "    </tr>\n",
              "    <tr>\n",
              "      <th>22</th>\n",
              "      <td>0.060000</td>\n",
              "    </tr>\n",
              "    <tr>\n",
              "      <th>23</th>\n",
              "      <td>0.240000</td>\n",
              "    </tr>\n",
              "    <tr>\n",
              "      <th>24</th>\n",
              "      <td>0.326667</td>\n",
              "    </tr>\n",
              "    <tr>\n",
              "      <th>25</th>\n",
              "      <td>0.346667</td>\n",
              "    </tr>\n",
              "  </tbody>\n",
              "</table>\n",
              "</div><br><label><b>dtype:</b> float64</label>"
            ]
          },
          "metadata": {},
          "execution_count": 32
        }
      ]
    },
    {
      "cell_type": "code",
      "source": [
        "plt.figure(figsize=(8, 5))\n",
        "\n",
        "plot_two_bars(pmf_results, pmf_binom, labels=[\"resultados reales\",\"modelo Poisson\"], xlabel='Goals', ylabel='PMF', title='Comparacion')\n",
        "\n",
        "plt.show()"
      ],
      "metadata": {
        "id": "S_GH7ylePapo",
        "colab": {
          "base_uri": "https://localhost:8080/",
          "height": 505
        },
        "outputId": "b051a6e7-261d-4450-bd03-12dc9cbb92ec"
      },
      "execution_count": 36,
      "outputs": [
        {
          "output_type": "display_data",
          "data": {
            "text/plain": [
              "<Figure size 800x500 with 0 Axes>"
            ]
          },
          "metadata": {}
        },
        {
          "output_type": "display_data",
          "data": {
            "text/plain": [
              "<Figure size 800x500 with 1 Axes>"
            ],
            "image/png": "[encoded data removed]"
          },
          "metadata": {}
        }
      ]
    },
    {
      "cell_type": "markdown",
      "source": [
        "Menciona que tan bien se ajusta nuestro modelo a la distribucion de los datos, considerando que **parte de la hipótesis poco realista de que todos los competidores tienen la misma capacidad**, que no varía."
      ],
      "metadata": {
        "id": "-oL6MZbjTwuP"
      }
    },
    {
      "cell_type": "markdown",
      "source": [
        "\n",
        "Son similares, con pequeñas diferencias debido a la variación aleatoria en los\n",
        "resultados de la simulación. Esta coincidencia no debería sorprender, ya que la\n",
        "simulación y el modelo se basan en los mismos supuestos, en particular el\n",
        "supuesto de que cada intento tiene la misma probabilidad de éxito. Una prueba\n",
        "más sólida de un modelo es cómo se compara con los datos reales."
      ],
      "metadata": {
        "id": "if_ODnghT_ex"
      }
    },
    {
      "cell_type": "code",
      "source": [
        "def qqplot(modelo, data):\n",
        "  # Número de muestras sintéticas a generar\n",
        "  n_samples = 1_000\n",
        "\n",
        "  # Generar muestras a partir de las PMF\n",
        "  prob_model = get_ps(modelo)\n",
        "  prob_model /= prob_model.sum()\n",
        "\n",
        "  prob_data = get_ps(data)\n",
        "  prob_data /= prob_data.sum()\n",
        "\n",
        "  modelo_sample = np.random.choice(get_qs(modelo), size=n_samples, p=prob_model)\n",
        "  data_sample = np.random.choice(get_qs(data), size=n_samples, p=prob_data)\n",
        "\n",
        "  # Ordenar las muestras\n",
        "  modelo_sorted = np.sort(modelo_sample)\n",
        "  data_sorted = np.sort(data_sample)\n",
        "\n",
        "  # Crear el QQ-plot comparando cuantiles de ambas muestras\n",
        "  plt.figure(figsize=(9, 9))\n",
        "  plt.plot(modelo_sorted, data_sorted, 'o', label=\"Quantile pairs\")\n",
        "  plt.plot([min(modelo_sample.min(), data_sample.min()), max(modelo_sample.max(), data_sample.max())],\n",
        "           [min(modelo_sample.min(), data_sample.min()), max(modelo_sample.max(), data_sample.max())],\n",
        "           'r--', label=\"Línea de 45°\")\n",
        "  plt.xlabel(\"Theoretical Quantiles\")\n",
        "  plt.ylabel(\"Sample Quantiles\")\n",
        "  plt.title(\"QQ-Plot: Comparación de dos distribuciones\")\n",
        "  plt.legend()\n",
        "  plt.grid(True)\n",
        "\n"
      ],
      "metadata": {
        "id": "7Q2fcNWfks_k"
      },
      "execution_count": 37,
      "outputs": []
    },
    {
      "cell_type": "code",
      "source": [
        "qqplot(pmf_binom, pmf_results)"
      ],
      "metadata": {
        "id": "XooeofVGiCI_",
        "colab": {
          "base_uri": "https://localhost:8080/",
          "height": 796
        },
        "outputId": "60f01603-a48d-4049-d4ef-eec380f5e30b"
      },
      "execution_count": 38,
      "outputs": [
        {
          "output_type": "display_data",
          "data": {
            "text/plain": [
              "<Figure size 900x900 with 1 Axes>"
            ],
            "image/png": "[encoded data removed]"
          },
          "metadata": {}
        }
      ]
    },
    {
      "cell_type": "markdown",
      "source": [
        "---\n",
        "---\n",
        "## La distribución de Poisson\n",
        "\n",
        "Como otro ejemplo en el que los resultados de los eventos deportivos siguen patrones predecibles, veamos el número de goles marcados en los partidos de hockey sobre hielo.\n",
        "\n",
        "Comenzaremos simulando un partido de `60` minutos, es decir, `3600` segundos, suponiendo que los equipos marcan un total de `6` goles por partido, de media, y que la probabilidad de marcar un gol, `p`,  es la misma durante cualquier segundo."
      ],
      "metadata": {
        "id": "Mg4jTIS1UIgo"
      }
    },
    {
      "cell_type": "code",
      "source": [
        "n = 3600\n",
        "m = 6\n",
        "p = m / 3600\n",
        "p"
      ],
      "metadata": {
        "id": "t6Dzznt6R_Oi",
        "colab": {
          "base_uri": "https://localhost:8080/"
        },
        "outputId": "24c95ac1-28fe-4d9a-c46a-30eac57776b0"
      },
      "execution_count": 39,
      "outputs": [
        {
          "output_type": "execute_result",
          "data": {
            "text/plain": [
              "0.0016666666666666668"
            ]
          },
          "metadata": {},
          "execution_count": 39
        }
      ]
    },
    {
      "cell_type": "markdown",
      "source": [
        "Ahora podemos utilizar la siguiente función para simular `n` segundos y devolver el número total de goles marcados."
      ],
      "metadata": {
        "id": "zWPolZaEVxva"
      }
    },
    {
      "cell_type": "code",
      "source": [
        "def simulate_goals(n, p):\n",
        "    return flip(n, p).sum()"
      ],
      "metadata": {
        "id": "HvstMIHQVyCh"
      },
      "execution_count": 40,
      "outputs": []
    },
    {
      "cell_type": "markdown",
      "source": [
        "Si simulamos muchos partidos (`1,001`), podemos confirmar que el número medio de goles por partido es cercano a `6`."
      ],
      "metadata": {
        "id": "uPVo4oupWA0H"
      }
    },
    {
      "cell_type": "code",
      "source": [
        "goals = [simulate_goals(n, p) for i in range(1001)]\n",
        "np.mean(goals)"
      ],
      "metadata": {
        "id": "1EurAlZPWA46",
        "colab": {
          "base_uri": "https://localhost:8080/"
        },
        "outputId": "1238c300-d7b3-4eeb-d0ee-4466c91e7dbd"
      },
      "execution_count": 41,
      "outputs": [
        {
          "output_type": "execute_result",
          "data": {
            "text/plain": [
              "np.float64(6.01998001998002)"
            ]
          },
          "metadata": {},
          "execution_count": 41
        }
      ]
    },
    {
      "cell_type": "markdown",
      "source": [
        "Podríamos utilizar la `distribución binomial` para modelar estos resultados, pero cuando `n` es grande y `p` es pequeño, los resultados también se modelan bien mediante una `distribución de Poisson`, que se especifica mediante un valor que suele denotarse con la letra griega `λ`, que se pronuncia **lambda** y se representa en el código con la variable `lam` (`lambda` no es un nombre de variable válido porque es una palabra clave de Python).\n",
        "`lam` representa la tasa de goles marcados, que en el ejemplo es de 6 goles por partido.\n",
        "\n",
        "<br>\n",
        "\n",
        "La `PMF` de la **distribución de Poisson** es fácil de calcular: dado `lam`, podemos utilizar la siguiente función para calcular la probabilidad de ver `k` goles en un partido."
      ],
      "metadata": {
        "id": "PDJU5No_WMEH"
      }
    },
    {
      "cell_type": "code",
      "source": [
        "from scipy.special import factorial\n",
        "\n",
        "\n",
        "def poisson_pmf(k, lam):\n",
        "    \"\"\"Calcula la función de probabilidad de Poisson.\n",
        "\n",
        "    k (int o tipo matriz): El número de ocurrencias.\n",
        "    lam (float): El parámetro de tasa (λ) de la distribución de Poisson.\n",
        "\n",
        "    Devuelve: float o matriz de dimensiones variables.\n",
        "    \"\"\"\n",
        "    return (lam**k) * np.exp(-lam) / factorial(k)"
      ],
      "metadata": {
        "id": "pFsViWLzWgzg"
      },
      "execution_count": 42,
      "outputs": []
    },
    {
      "cell_type": "markdown",
      "source": [
        "La libreria `SciPy` proporciona la función `factorial`, que calcula el producto de los números enteros desde `1` hasta `k`.\n",
        "\n",
        "Si llamamos a `poisson_pmf` con un rango de valores `k`, podemos crear una `Pmf` que represente la distribución de los resultados."
      ],
      "metadata": {
        "id": "Z8VtIsCRW3tK"
      }
    },
    {
      "cell_type": "code",
      "source": [
        "lam = 6\n",
        "ks = np.arange(20)\n",
        "ps = poisson_pmf(ks, lam)\n",
        "\n",
        "pmf_poisson = pd.Series(data=ps, index=ks, name=\"modelo Poisson\")\n",
        "pmf_poisson"
      ],
      "metadata": {
        "id": "UN6HH9ctW6Jr",
        "colab": {
          "base_uri": "https://localhost:8080/",
          "height": 711
        },
        "outputId": "09781d3f-8729-4ad2-f195-58559e555e51"
      },
      "execution_count": 43,
      "outputs": [
        {
          "output_type": "execute_result",
          "data": {
            "text/plain": [
              "0     0.002479\n",
              "1     0.014873\n",
              "2     0.044618\n",
              "3     0.089235\n",
              "4     0.133853\n",
              "5     0.160623\n",
              "6     0.160623\n",
              "7     0.137677\n",
              "8     0.103258\n",
              "9     0.068838\n",
              "10    0.041303\n",
              "11    0.022529\n",
              "12    0.011264\n",
              "13    0.005199\n",
              "14    0.002228\n",
              "15    0.000891\n",
              "16    0.000334\n",
              "17    0.000118\n",
              "18    0.000039\n",
              "19    0.000012\n",
              "Name: modelo Poisson, dtype: float64"
            ],
            "text/html": [
              "<div>\n",
              "<style scoped>\n",
              "    .dataframe tbody tr th:only-of-type {\n",
              "        vertical-align: middle;\n",
              "    }\n",
              "\n",
              "    .dataframe tbody tr th {\n",
              "        vertical-align: top;\n",
              "    }\n",
              "\n",
              "    .dataframe thead th {\n",
              "        text-align: right;\n",
              "    }\n",
              "</style>\n",
              "<table border=\"1\" class=\"dataframe\">\n",
              "  <thead>\n",
              "    <tr style=\"text-align: right;\">\n",
              "      <th></th>\n",
              "      <th>modelo Poisson</th>\n",
              "    </tr>\n",
              "  </thead>\n",
              "  <tbody>\n",
              "    <tr>\n",
              "      <th>0</th>\n",
              "      <td>0.002479</td>\n",
              "    </tr>\n",
              "    <tr>\n",
              "      <th>1</th>\n",
              "      <td>0.014873</td>\n",
              "    </tr>\n",
              "    <tr>\n",
              "      <th>2</th>\n",
              "      <td>0.044618</td>\n",
              "    </tr>\n",
              "    <tr>\n",
              "      <th>3</th>\n",
              "      <td>0.089235</td>\n",
              "    </tr>\n",
              "    <tr>\n",
              "      <th>4</th>\n",
              "      <td>0.133853</td>\n",
              "    </tr>\n",
              "    <tr>\n",
              "      <th>5</th>\n",
              "      <td>0.160623</td>\n",
              "    </tr>\n",
              "    <tr>\n",
              "      <th>6</th>\n",
              "      <td>0.160623</td>\n",
              "    </tr>\n",
              "    <tr>\n",
              "      <th>7</th>\n",
              "      <td>0.137677</td>\n",
              "    </tr>\n",
              "    <tr>\n",
              "      <th>8</th>\n",
              "      <td>0.103258</td>\n",
              "    </tr>\n",
              "    <tr>\n",
              "      <th>9</th>\n",
              "      <td>0.068838</td>\n",
              "    </tr>\n",
              "    <tr>\n",
              "      <th>10</th>\n",
              "      <td>0.041303</td>\n",
              "    </tr>\n",
              "    <tr>\n",
              "      <th>11</th>\n",
              "      <td>0.022529</td>\n",
              "    </tr>\n",
              "    <tr>\n",
              "      <th>12</th>\n",
              "      <td>0.011264</td>\n",
              "    </tr>\n",
              "    <tr>\n",
              "      <th>13</th>\n",
              "      <td>0.005199</td>\n",
              "    </tr>\n",
              "    <tr>\n",
              "      <th>14</th>\n",
              "      <td>0.002228</td>\n",
              "    </tr>\n",
              "    <tr>\n",
              "      <th>15</th>\n",
              "      <td>0.000891</td>\n",
              "    </tr>\n",
              "    <tr>\n",
              "      <th>16</th>\n",
              "      <td>0.000334</td>\n",
              "    </tr>\n",
              "    <tr>\n",
              "      <th>17</th>\n",
              "      <td>0.000118</td>\n",
              "    </tr>\n",
              "    <tr>\n",
              "      <th>18</th>\n",
              "      <td>0.000039</td>\n",
              "    </tr>\n",
              "    <tr>\n",
              "      <th>19</th>\n",
              "      <td>0.000012</td>\n",
              "    </tr>\n",
              "  </tbody>\n",
              "</table>\n",
              "</div><br><label><b>dtype:</b> float64</label>"
            ]
          },
          "metadata": {},
          "execution_count": 43
        }
      ]
    },
    {
      "cell_type": "markdown",
      "source": [
        "Podemos confirmar que la `media` de la distribución es cercana a `6`. Recuerde el `valor esperado`."
      ],
      "metadata": {
        "id": "1Qc5xl7-XlbI"
      }
    },
    {
      "cell_type": "code",
      "source": [
        "np.sum(get_ps(pmf_poisson) * get_qs(pmf_poisson)).item()"
      ],
      "metadata": {
        "id": "SyxunZBTXHox",
        "colab": {
          "base_uri": "https://localhost:8080/"
        },
        "outputId": "bf851791-1686-4e48-b4fc-052c1d503382"
      },
      "execution_count": 44,
      "outputs": [
        {
          "output_type": "execute_result",
          "data": {
            "text/plain": [
              "5.999894417747437"
            ]
          },
          "metadata": {},
          "execution_count": 44
        }
      ]
    },
    {
      "cell_type": "markdown",
      "source": [
        "La siguiente figura compara los resultados de la simulación con la distribución de Poisson con la misma media."
      ],
      "metadata": {
        "id": "cCEyus1BW7hd"
      }
    },
    {
      "cell_type": "code",
      "source": [
        "pmf_sim = from_seq(goals)\n",
        "pmf_sim"
      ],
      "metadata": {
        "id": "ht_xheLLbA4n",
        "colab": {
          "base_uri": "https://localhost:8080/",
          "height": 585
        },
        "outputId": "58926651-90fb-45db-cfe5-3c4b938526e7"
      },
      "execution_count": 45,
      "outputs": [
        {
          "output_type": "execute_result",
          "data": {
            "text/plain": [
              "0     0.002997\n",
              "1     0.011988\n",
              "2     0.046953\n",
              "3     0.079920\n",
              "4     0.133866\n",
              "5     0.166833\n",
              "6     0.163836\n",
              "7     0.145854\n",
              "8     0.090909\n",
              "9     0.069930\n",
              "10    0.049950\n",
              "11    0.015984\n",
              "12    0.008991\n",
              "13    0.007992\n",
              "14    0.002997\n",
              "15    0.000999\n",
              "Name: proportion, dtype: float64"
            ],
            "text/html": [
              "<div>\n",
              "<style scoped>\n",
              "    .dataframe tbody tr th:only-of-type {\n",
              "        vertical-align: middle;\n",
              "    }\n",
              "\n",
              "    .dataframe tbody tr th {\n",
              "        vertical-align: top;\n",
              "    }\n",
              "\n",
              "    .dataframe thead th {\n",
              "        text-align: right;\n",
              "    }\n",
              "</style>\n",
              "<table border=\"1\" class=\"dataframe\">\n",
              "  <thead>\n",
              "    <tr style=\"text-align: right;\">\n",
              "      <th></th>\n",
              "      <th>proportion</th>\n",
              "    </tr>\n",
              "  </thead>\n",
              "  <tbody>\n",
              "    <tr>\n",
              "      <th>0</th>\n",
              "      <td>0.002997</td>\n",
              "    </tr>\n",
              "    <tr>\n",
              "      <th>1</th>\n",
              "      <td>0.011988</td>\n",
              "    </tr>\n",
              "    <tr>\n",
              "      <th>2</th>\n",
              "      <td>0.046953</td>\n",
              "    </tr>\n",
              "    <tr>\n",
              "      <th>3</th>\n",
              "      <td>0.079920</td>\n",
              "    </tr>\n",
              "    <tr>\n",
              "      <th>4</th>\n",
              "      <td>0.133866</td>\n",
              "    </tr>\n",
              "    <tr>\n",
              "      <th>5</th>\n",
              "      <td>0.166833</td>\n",
              "    </tr>\n",
              "    <tr>\n",
              "      <th>6</th>\n",
              "      <td>0.163836</td>\n",
              "    </tr>\n",
              "    <tr>\n",
              "      <th>7</th>\n",
              "      <td>0.145854</td>\n",
              "    </tr>\n",
              "    <tr>\n",
              "      <th>8</th>\n",
              "      <td>0.090909</td>\n",
              "    </tr>\n",
              "    <tr>\n",
              "      <th>9</th>\n",
              "      <td>0.069930</td>\n",
              "    </tr>\n",
              "    <tr>\n",
              "      <th>10</th>\n",
              "      <td>0.049950</td>\n",
              "    </tr>\n",
              "    <tr>\n",
              "      <th>11</th>\n",
              "      <td>0.015984</td>\n",
              "    </tr>\n",
              "    <tr>\n",
              "      <th>12</th>\n",
              "      <td>0.008991</td>\n",
              "    </tr>\n",
              "    <tr>\n",
              "      <th>13</th>\n",
              "      <td>0.007992</td>\n",
              "    </tr>\n",
              "    <tr>\n",
              "      <th>14</th>\n",
              "      <td>0.002997</td>\n",
              "    </tr>\n",
              "    <tr>\n",
              "      <th>15</th>\n",
              "      <td>0.000999</td>\n",
              "    </tr>\n",
              "  </tbody>\n",
              "</table>\n",
              "</div><br><label><b>dtype:</b> float64</label>"
            ]
          },
          "metadata": {},
          "execution_count": 45
        }
      ]
    },
    {
      "cell_type": "code",
      "source": [
        "plt.figure(figsize=(8, 5))\n",
        "\n",
        "plot_two_bars(pmf_sim, pmf_poisson, labels=[\"Simulacion\",\"modelo Poisson\"], xlabel='Goals', ylabel='PMF', title='Comparacion')\n",
        "\n",
        "plt.show()"
      ],
      "metadata": {
        "id": "BwnW8KHKXr2D",
        "colab": {
          "base_uri": "https://localhost:8080/",
          "height": 505
        },
        "outputId": "732d860b-e8ad-413b-80e8-09bdb5a3b8f3"
      },
      "execution_count": 46,
      "outputs": [
        {
          "output_type": "display_data",
          "data": {
            "text/plain": [
              "<Figure size 800x500 with 0 Axes>"
            ]
          },
          "metadata": {}
        },
        {
          "output_type": "display_data",
          "data": {
            "text/plain": [
              "<Figure size 800x500 with 1 Axes>"
            ],
            "image/png": "[encoded data removed]"
          },
          "metadata": {}
        }
      ]
    },
    {
      "cell_type": "markdown",
      "source": [
        "Las distribuciones son similares, salvo por pequeñas diferencias debidas a variaciones aleatorias.\n",
        "Esto no debería sorprender, ya que la simulación y el modelo de Poisson se basan en la misma hipótesis de que la probabilidad de marcar un gol es la misma durante cualquier segundo del partido.\n",
        "Por lo tanto, una prueba más rigurosa consiste en comprobar en qué medida el modelo se ajusta a los datos reales."
      ],
      "metadata": {
        "id": "FYJoO9QYZoFt"
      }
    },
    {
      "cell_type": "markdown",
      "source": [
        "---\n",
        "\n",
        "# **EJERCICIO**\n",
        "\n",
        "Desde `HockeyReference`, descargué los resultados de todos los partidos de la temporada regular 2023-2024 de la Liga Nacional de Hockey (NHL) (sin incluir los playoffs).\n",
        "\n",
        "Se extrajo información sobre los goles marcados durante los 60 minutos de juego reglamentario, sin incluir las prórrogas ni los tiros penales para desempatar.\n",
        "\n",
        "Los resultados se encuentran en un archivo HDF con una clave para cada partido y una lista de tiempos, en segundos desde el comienzo del partido, en los que se marcó un gol."
      ],
      "metadata": {
        "id": "-RRuEsKYZoNV"
      }
    },
    {
      "cell_type": "markdown",
      "source": [
        "Data original descargada de <https://www.hockey-reference.com/leagues/NHL_2024_games.html>"
      ],
      "metadata": {
        "id": "elis_9XzdbdY"
      }
    },
    {
      "cell_type": "markdown",
      "source": [
        "Así es como leemos las claves del archivo."
      ],
      "metadata": {
        "id": "wQ97J29zdzNM"
      }
    },
    {
      "cell_type": "code",
      "source": [
        "import requests\n",
        "\n",
        "# URL del archivo\n",
        "url = \"https://github.com/AllenDowney/ThinkStats/raw/v3/data/nhl_2023_2024.hdf\"\n",
        "filename = \"nhl_2023_2024.hdf\"  # Nombre local donde se guardará\n",
        "\n",
        "# Descargar el archivo\n",
        "response = requests.get(url)\n",
        "with open(filename, \"wb\") as f:\n",
        "    f.write(response.content)\n",
        "\n",
        "# Abrir el archivo y obtener las claves (keys)\n",
        "with pd.HDFStore(filename, \"r\") as store:\n",
        "    keys = store.keys()\n",
        "\n",
        "print(\"Partidos: \", len(keys))\n",
        "print(\"\\nPrimeros 5 partidos:\")\n",
        "for i in range(5):\n",
        "  print(keys[i])"
      ],
      "metadata": {
        "id": "ENRwjaJiexPi",
        "colab": {
          "base_uri": "https://localhost:8080/"
        },
        "outputId": "087442e4-7aed-4ba5-de6c-9a002bbf4355"
      },
      "execution_count": 47,
      "outputs": [
        {
          "output_type": "stream",
          "name": "stdout",
          "text": [
            "Partidos:  1312\n",
            "\n",
            "Primeros 5 partidos:\n",
            "/202310100PIT\n",
            "/202310100TBL\n",
            "/202310100VEG\n",
            "/202310110BOS\n",
            "/202310110CAR\n"
          ]
        }
      ]
    },
    {
      "cell_type": "markdown",
      "source": [
        "Hubo `1,312` partidos durante la temporada regular.\n",
        "\n",
        "Cada clave contiene la fecha del partido y una abreviatura de tres letras para el equipo local.\n",
        "\n",
        "Podemos usar `read_hdf` de la libreria `pandas` para buscar una clave y obtener la lista de veces que se marcó un gol."
      ],
      "metadata": {
        "id": "ZLrg_RDjd8ul"
      }
    },
    {
      "cell_type": "code",
      "source": [
        "times = pd.read_hdf(filename, key=keys[0])\n",
        "times"
      ],
      "metadata": {
        "id": "_VMdLSjld813",
        "colab": {
          "base_uri": "https://localhost:8080/",
          "height": 272
        },
        "outputId": "cb640a1f-15bc-454d-bfa0-ee8d46de8788"
      },
      "execution_count": 48,
      "outputs": [
        {
          "output_type": "execute_result",
          "data": {
            "text/plain": [
              "0     424\n",
              "1    1916\n",
              "2    2137\n",
              "3    3005\n",
              "4    3329\n",
              "5    3513\n",
              "dtype: int64"
            ],
            "text/html": [
              "<div>\n",
              "<style scoped>\n",
              "    .dataframe tbody tr th:only-of-type {\n",
              "        vertical-align: middle;\n",
              "    }\n",
              "\n",
              "    .dataframe tbody tr th {\n",
              "        vertical-align: top;\n",
              "    }\n",
              "\n",
              "    .dataframe thead th {\n",
              "        text-align: right;\n",
              "    }\n",
              "</style>\n",
              "<table border=\"1\" class=\"dataframe\">\n",
              "  <thead>\n",
              "    <tr style=\"text-align: right;\">\n",
              "      <th></th>\n",
              "      <th>0</th>\n",
              "    </tr>\n",
              "  </thead>\n",
              "  <tbody>\n",
              "    <tr>\n",
              "      <th>0</th>\n",
              "      <td>424</td>\n",
              "    </tr>\n",
              "    <tr>\n",
              "      <th>1</th>\n",
              "      <td>1916</td>\n",
              "    </tr>\n",
              "    <tr>\n",
              "      <th>2</th>\n",
              "      <td>2137</td>\n",
              "    </tr>\n",
              "    <tr>\n",
              "      <th>3</th>\n",
              "      <td>3005</td>\n",
              "    </tr>\n",
              "    <tr>\n",
              "      <th>4</th>\n",
              "      <td>3329</td>\n",
              "    </tr>\n",
              "    <tr>\n",
              "      <th>5</th>\n",
              "      <td>3513</td>\n",
              "    </tr>\n",
              "  </tbody>\n",
              "</table>\n",
              "</div><br><label><b>dtype:</b> int64</label>"
            ]
          },
          "metadata": {},
          "execution_count": 48
        }
      ]
    },
    {
      "cell_type": "markdown",
      "source": [
        "En el primer partido de la temporada se marcaron `6 goles`, el primero tras `424 segundos` de juego y el último tras `3513 segundos`, cuando solo quedaban `87 segundos` para el final del partido.\n",
        "\n",
        "---\n",
        "\n"
      ],
      "metadata": {
        "id": "sI_qluUMd89d"
      }
    },
    {
      "cell_type": "code",
      "source": [
        "(3600 - times[5]).item()"
      ],
      "metadata": {
        "id": "Yf9Wv-ead9F7",
        "colab": {
          "base_uri": "https://localhost:8080/"
        },
        "outputId": "39b44e2a-c84b-43f8-95a5-d7252399d43b"
      },
      "execution_count": 49,
      "outputs": [
        {
          "output_type": "execute_result",
          "data": {
            "text/plain": [
              "87"
            ]
          },
          "metadata": {},
          "execution_count": 49
        }
      ]
    },
    {
      "cell_type": "markdown",
      "source": [
        "Utiliza un bucle que lea los resultados de todos los partidos (`keys`), utiliza la funcion `read_hdf` para poder leer del archivo los datos de cada juego en `keys`.\n",
        "\n",
        "```\n",
        "pd.read_hdf(filename, key=keys)\n",
        "```\n",
        "donde keys es cada uno de los partidos, por ejemplo:\n",
        "```\n",
        "/202310100PIT\n",
        "/202310100TBL\n",
        "/202310100VEG\n",
        "/202310110BOS\n",
        "/202310110CAR\n",
        "```\n",
        "\n",
        "cuenta el número de goles en cada uno y almacena los resultados en una lista, `goals`."
      ],
      "metadata": {
        "id": "TB4DMYbtiFEE"
      }
    },
    {
      "cell_type": "code",
      "source": [
        "goals = []\n",
        "for key in keys:\n",
        "    times = pd.read_hdf(filename, key=key)\n",
        "    goals.append(len(times))"
      ],
      "metadata": {
        "id": "t4Z6hGfvjCog"
      },
      "execution_count": 50,
      "outputs": []
    },
    {
      "cell_type": "markdown",
      "source": [
        "Confirma que el promedio de goles en `goals` por partido sea alrededor de lo sospechado."
      ],
      "metadata": {
        "id": "tjJX9R5XiS-w"
      }
    },
    {
      "cell_type": "code",
      "source": [
        "print(f\"El promedio de goles por partido es: {np.mean(goals)}\")"
      ],
      "metadata": {
        "id": "xKRIC14Djrlw",
        "colab": {
          "base_uri": "https://localhost:8080/"
        },
        "outputId": "b9e5979c-ec8c-4eb1-866b-0f1d68a8ee67"
      },
      "execution_count": 51,
      "outputs": [
        {
          "output_type": "stream",
          "name": "stdout",
          "text": [
            "El promedio de goles por partido es: 6.0182926829268295\n"
          ]
        }
      ]
    },
    {
      "cell_type": "markdown",
      "source": [
        "Podemos utilizar `poisson_pmf` para crear una `Pmf` (convertir en una `Series`) que represente una distribución de Poisson con la misma `media` que los datos."
      ],
      "metadata": {
        "id": "81rteYvxjhm9"
      }
    },
    {
      "cell_type": "code",
      "source": [
        "lam_goals = np.mean(goals)\n",
        "ks_goals = np.arange(np.max(goals) + 1)\n",
        "ps_goals = poisson_pmf(ks_goals, lam_goals)\n",
        "\n",
        "pmf_poisson_goals = pd.Series(data=ps_goals, index=ks_goals, name=\"modelo Poisson (datos reales)\")\n",
        "pmf_poisson_goals"
      ],
      "metadata": {
        "id": "bUHFwxPQjsha",
        "colab": {
          "base_uri": "https://localhost:8080/",
          "height": 648
        },
        "outputId": "ff8eeff9-01c6-47f5-c30f-f8faa76b703f"
      },
      "execution_count": 52,
      "outputs": [
        {
          "output_type": "execute_result",
          "data": {
            "text/plain": [
              "0     0.002434\n",
              "1     0.014647\n",
              "2     0.044076\n",
              "3     0.088421\n",
              "4     0.133036\n",
              "5     0.160130\n",
              "6     0.160619\n",
              "7     0.138093\n",
              "8     0.103885\n",
              "9     0.069468\n",
              "10    0.041808\n",
              "11    0.022874\n",
              "12    0.011472\n",
              "13    0.005311\n",
              "14    0.002283\n",
              "15    0.000916\n",
              "16    0.000345\n",
              "17    0.000122\n",
              "Name: modelo Poisson (datos reales), dtype: float64"
            ],
            "text/html": [
              "<div>\n",
              "<style scoped>\n",
              "    .dataframe tbody tr th:only-of-type {\n",
              "        vertical-align: middle;\n",
              "    }\n",
              "\n",
              "    .dataframe tbody tr th {\n",
              "        vertical-align: top;\n",
              "    }\n",
              "\n",
              "    .dataframe thead th {\n",
              "        text-align: right;\n",
              "    }\n",
              "</style>\n",
              "<table border=\"1\" class=\"dataframe\">\n",
              "  <thead>\n",
              "    <tr style=\"text-align: right;\">\n",
              "      <th></th>\n",
              "      <th>modelo Poisson (datos reales)</th>\n",
              "    </tr>\n",
              "  </thead>\n",
              "  <tbody>\n",
              "    <tr>\n",
              "      <th>0</th>\n",
              "      <td>0.002434</td>\n",
              "    </tr>\n",
              "    <tr>\n",
              "      <th>1</th>\n",
              "      <td>0.014647</td>\n",
              "    </tr>\n",
              "    <tr>\n",
              "      <th>2</th>\n",
              "      <td>0.044076</td>\n",
              "    </tr>\n",
              "    <tr>\n",
              "      <th>3</th>\n",
              "      <td>0.088421</td>\n",
              "    </tr>\n",
              "    <tr>\n",
              "      <th>4</th>\n",
              "      <td>0.133036</td>\n",
              "    </tr>\n",
              "    <tr>\n",
              "      <th>5</th>\n",
              "      <td>0.160130</td>\n",
              "    </tr>\n",
              "    <tr>\n",
              "      <th>6</th>\n",
              "      <td>0.160619</td>\n",
              "    </tr>\n",
              "    <tr>\n",
              "      <th>7</th>\n",
              "      <td>0.138093</td>\n",
              "    </tr>\n",
              "    <tr>\n",
              "      <th>8</th>\n",
              "      <td>0.103885</td>\n",
              "    </tr>\n",
              "    <tr>\n",
              "      <th>9</th>\n",
              "      <td>0.069468</td>\n",
              "    </tr>\n",
              "    <tr>\n",
              "      <th>10</th>\n",
              "      <td>0.041808</td>\n",
              "    </tr>\n",
              "    <tr>\n",
              "      <th>11</th>\n",
              "      <td>0.022874</td>\n",
              "    </tr>\n",
              "    <tr>\n",
              "      <th>12</th>\n",
              "      <td>0.011472</td>\n",
              "    </tr>\n",
              "    <tr>\n",
              "      <th>13</th>\n",
              "      <td>0.005311</td>\n",
              "    </tr>\n",
              "    <tr>\n",
              "      <th>14</th>\n",
              "      <td>0.002283</td>\n",
              "    </tr>\n",
              "    <tr>\n",
              "      <th>15</th>\n",
              "      <td>0.000916</td>\n",
              "    </tr>\n",
              "    <tr>\n",
              "      <th>16</th>\n",
              "      <td>0.000345</td>\n",
              "    </tr>\n",
              "    <tr>\n",
              "      <th>17</th>\n",
              "      <td>0.000122</td>\n",
              "    </tr>\n",
              "  </tbody>\n",
              "</table>\n",
              "</div><br><label><b>dtype:</b> float64</label>"
            ]
          },
          "metadata": {},
          "execution_count": 52
        }
      ]
    },
    {
      "cell_type": "markdown",
      "source": [
        "Compara con la `Pmf` de los **resultados reales**, puedes utilizar `from_seq`, y grafique en conjunto los resultados reales y el modelo Poisson, `plot_two_bars`.\n",
        "\n",
        "Nombra la variable que contenga el pmf de los **resultados reales** como `pmf_goals`.\n",
        "\n"
      ],
      "metadata": {
        "id": "v557-mXUjh8_"
      }
    },
    {
      "cell_type": "code",
      "source": [
        "# Tu codigo va aqui\n",
        "pmf_goals = from_seq(goals, name=\"resultados reales\", convert_to=\"PMF\")\n",
        "pmf_goals"
      ],
      "metadata": {
        "id": "hahKIcTOjvbB",
        "colab": {
          "base_uri": "https://localhost:8080/",
          "height": 585
        },
        "outputId": "f536b9e3-de16-4eae-a0b0-f2de0ae1059f"
      },
      "execution_count": 53,
      "outputs": [
        {
          "output_type": "execute_result",
          "data": {
            "text/plain": [
              "resultados reales\n",
              "0     0.002287\n",
              "1     0.009909\n",
              "2     0.045732\n",
              "3     0.070884\n",
              "4     0.146341\n",
              "5     0.151677\n",
              "6     0.185976\n",
              "7     0.137957\n",
              "8     0.100610\n",
              "9     0.072409\n",
              "10    0.035061\n",
              "11    0.028963\n",
              "12    0.008384\n",
              "13    0.003049\n",
              "17    0.000762\n",
              "Name: proportion, dtype: float64"
            ],
            "text/html": [
              "<div>\n",
              "<style scoped>\n",
              "    .dataframe tbody tr th:only-of-type {\n",
              "        vertical-align: middle;\n",
              "    }\n",
              "\n",
              "    .dataframe tbody tr th {\n",
              "        vertical-align: top;\n",
              "    }\n",
              "\n",
              "    .dataframe thead th {\n",
              "        text-align: right;\n",
              "    }\n",
              "</style>\n",
              "<table border=\"1\" class=\"dataframe\">\n",
              "  <thead>\n",
              "    <tr style=\"text-align: right;\">\n",
              "      <th></th>\n",
              "      <th>proportion</th>\n",
              "    </tr>\n",
              "    <tr>\n",
              "      <th>resultados reales</th>\n",
              "      <th></th>\n",
              "    </tr>\n",
              "  </thead>\n",
              "  <tbody>\n",
              "    <tr>\n",
              "      <th>0</th>\n",
              "      <td>0.002287</td>\n",
              "    </tr>\n",
              "    <tr>\n",
              "      <th>1</th>\n",
              "      <td>0.009909</td>\n",
              "    </tr>\n",
              "    <tr>\n",
              "      <th>2</th>\n",
              "      <td>0.045732</td>\n",
              "    </tr>\n",
              "    <tr>\n",
              "      <th>3</th>\n",
              "      <td>0.070884</td>\n",
              "    </tr>\n",
              "    <tr>\n",
              "      <th>4</th>\n",
              "      <td>0.146341</td>\n",
              "    </tr>\n",
              "    <tr>\n",
              "      <th>5</th>\n",
              "      <td>0.151677</td>\n",
              "    </tr>\n",
              "    <tr>\n",
              "      <th>6</th>\n",
              "      <td>0.185976</td>\n",
              "    </tr>\n",
              "    <tr>\n",
              "      <th>7</th>\n",
              "      <td>0.137957</td>\n",
              "    </tr>\n",
              "    <tr>\n",
              "      <th>8</th>\n",
              "      <td>0.100610</td>\n",
              "    </tr>\n",
              "    <tr>\n",
              "      <th>9</th>\n",
              "      <td>0.072409</td>\n",
              "    </tr>\n",
              "    <tr>\n",
              "      <th>10</th>\n",
              "      <td>0.035061</td>\n",
              "    </tr>\n",
              "    <tr>\n",
              "      <th>11</th>\n",
              "      <td>0.028963</td>\n",
              "    </tr>\n",
              "    <tr>\n",
              "      <th>12</th>\n",
              "      <td>0.008384</td>\n",
              "    </tr>\n",
              "    <tr>\n",
              "      <th>13</th>\n",
              "      <td>0.003049</td>\n",
              "    </tr>\n",
              "    <tr>\n",
              "      <th>17</th>\n",
              "      <td>0.000762</td>\n",
              "    </tr>\n",
              "  </tbody>\n",
              "</table>\n",
              "</div><br><label><b>dtype:</b> float64</label>"
            ]
          },
          "metadata": {},
          "execution_count": 53
        }
      ]
    },
    {
      "cell_type": "code",
      "source": [
        "plt.figure(figsize=(8, 5))\n",
        "\n",
        "plot_two_bars(pmf_goals, pmf_poisson_goals, labels=[\"Simulación\",\"modelo Poisson\"], xlabel='Goals', ylabel='PMF', title='Comparacion')\n",
        "\n",
        "plt.show()"
      ],
      "metadata": {
        "colab": {
          "base_uri": "https://localhost:8080/",
          "height": 505
        },
        "id": "NMCX4lFhDk-y",
        "outputId": "f2cbcf5a-4bba-4519-a765-11ac5ef4880f"
      },
      "execution_count": 54,
      "outputs": [
        {
          "output_type": "display_data",
          "data": {
            "text/plain": [
              "<Figure size 800x500 with 0 Axes>"
            ]
          },
          "metadata": {}
        },
        {
          "output_type": "display_data",
          "data": {
            "text/plain": [
              "<Figure size 800x500 with 1 Axes>"
            ],
            "image/png": "[encoded data removed]"
          },
          "metadata": {}
        }
      ]
    },
    {
      "cell_type": "markdown",
      "source": [
        "::Menciona que tan bien se ajusta nuestro modelo a la distribucion de los datos"
      ],
      "metadata": {
        "id": "gknKp7c0ptDd"
      }
    },
    {
      "cell_type": "markdown",
      "source": [
        "El modelo se ajusta bastante bien, claramente con sus pequeños errores. Pero es un buen modelo para el número de goles marcados aunque en el pico si hay un diferencia más notable al igual que al final de la distribución."
      ],
      "metadata": {
        "id": "Tu8xlSc4ptDd"
      }
    },
    {
      "cell_type": "markdown",
      "source": [
        "A continuacion se muestra el QQ-plot del pmf de los datos reales, `pmf_goals`."
      ],
      "metadata": {
        "id": "CymvRiCzxfcN"
      }
    },
    {
      "cell_type": "code",
      "source": [
        "import statsmodels.api as sm\n",
        "from scipy import stats\n",
        "\n",
        "lam = 6\n",
        "\n",
        "fig = sm.qqplot(pmf_goals.index, dist=stats.poisson(lam), line=\"q\")\n",
        "\n",
        "plt.title(\"QQ Plot\")\n",
        "plt.grid()\n",
        "plt.show()"
      ],
      "metadata": {
        "id": "rxDxQI1-s1iu",
        "colab": {
          "base_uri": "https://localhost:8080/",
          "height": 472
        },
        "outputId": "c42e9f27-156e-4c07-df3d-cfb9848680d6"
      },
      "execution_count": 55,
      "outputs": [
        {
          "output_type": "display_data",
          "data": {
            "text/plain": [
              "<Figure size 640x480 with 1 Axes>"
            ],
            "image/png": "[encoded data removed]"
          },
          "metadata": {}
        }
      ]
    },
    {
      "cell_type": "markdown",
      "source": [
        "\n",
        "---\n",
        "---\n",
        "\n",
        "## La distribución exponencial\n",
        "\n",
        "Anteriormente, simulamos un modelo simple de un partido de hockey en el que un gol tiene la misma probabilidad de ser marcado durante cualquier segundo del partido.\n",
        "Bajo el mismo modelo, resulta que el tiempo hasta el primer gol sigue una **distribución exponencial**.\n",
        "\n",
        "Para demostrarlo, supongamos de nuevo que los equipos marcan un total de `6 goles de media`, y calculamos la `probabilidad de que se marque un gol durante cada segundo`.\n"
      ],
      "metadata": {
        "id": "IMEkf3ydG2ng"
      }
    },
    {
      "cell_type": "code",
      "source": [
        "n = 3600\n",
        "m = 6\n",
        "p = m / 3600\n",
        "p"
      ],
      "metadata": {
        "id": "_duYlG-0I3IW",
        "colab": {
          "base_uri": "https://localhost:8080/"
        },
        "outputId": "99803d51-1fab-4012-9c01-91d4c2440d82"
      },
      "execution_count": 56,
      "outputs": [
        {
          "output_type": "execute_result",
          "data": {
            "text/plain": [
              "0.0016666666666666668"
            ]
          },
          "metadata": {},
          "execution_count": 56
        }
      ]
    },
    {
      "cell_type": "markdown",
      "source": [
        "La siguiente función simula `n` segundos y utiliza la funcion `argmax` para encontrar el momento del primer gol."
      ],
      "metadata": {
        "id": "cTjf-LMvJe8c"
      }
    },
    {
      "cell_type": "code",
      "source": [
        "def simulate_first_goal(n, p):\n",
        "    return flip(n, p).argmax()"
      ],
      "metadata": {
        "id": "liZ5599dJeb4"
      },
      "execution_count": 57,
      "outputs": []
    },
    {
      "cell_type": "markdown",
      "source": [
        "Esto funciona porque el resultado de `flip` es una secuencia de 1 y 0, por lo que el máximo es casi siempre 1.\n",
        "Si hay al menos un gol en la secuencia, `argmax` devuelve el índice del primero.\n",
        "Si no hay goles, devuelve 0, pero eso ocurre tan raramente que lo ignoraremos."
      ],
      "metadata": {
        "id": "q7eld9aWKW6p"
      }
    },
    {
      "cell_type": "code",
      "source": [
        "np.random.seed(3) #linea con propositos de reproducibilidad"
      ],
      "metadata": {
        "id": "en3_sDWhKn6w"
      },
      "execution_count": 58,
      "outputs": []
    },
    {
      "cell_type": "markdown",
      "source": [
        "Utilice la funcion `simulate_first_goal` para simular `1,001` partidos y hacer una lista de los tiempos hasta el primer gol. Nombre la variable que contendra la lista como `first_goal_times`.\n",
        "\n",
        "Adicionalmente, Calcule el `tiempo promedio` hasta el primer gol."
      ],
      "metadata": {
        "id": "_hB0Fv5zLwaX"
      }
    },
    {
      "cell_type": "code",
      "source": [
        "# Tu codigo va aqui\n",
        "first_goal_times = [simulate_first_goal(n, p) for i in range(1001)]\n",
        "mean = np.mean(first_goal_times)\n"
      ],
      "metadata": {
        "id": "6Q8psEm_Kn9c"
      },
      "execution_count": 59,
      "outputs": []
    },
    {
      "cell_type": "code",
      "source": [
        "# Tu codigo va aqui\n",
        "print(f\"Tiempo promedio hasta el primer gol: {mean:.4f} segundos\")"
      ],
      "metadata": {
        "id": "39fg3-3yOkip",
        "colab": {
          "base_uri": "https://localhost:8080/"
        },
        "outputId": "9977d3d1-1e2e-44f0-a37c-e87a11ee5b7b"
      },
      "execution_count": 60,
      "outputs": [
        {
          "output_type": "stream",
          "name": "stdout",
          "text": [
            "Tiempo promedio hasta el primer gol: 597.7902 segundos\n"
          ]
        }
      ]
    },
    {
      "cell_type": "markdown",
      "source": [
        "Cuando `n` es grande y `p` es pequeño, podemos demostrar matemáticamente que el tiempo esperado hasta el primer gol sigue una `distribución exponencial`.\n",
        "\n",
        "Dado que la simulación genera muchos valores de tiempo únicos, utilizaremos las `CDF` para comparar las distribuciones, en lugar de las `PMF`.\n",
        "Y la `CDF de la distribución exponencial` es fácil de calcular.\n",
        "\n",
        "Complete la funcion `exponential_CDF`."
      ],
      "metadata": {
        "id": "BxGQvRxnNhUN"
      }
    },
    {
      "cell_type": "code",
      "source": [
        "def exponential_CDF(x, lam):\n",
        "    \"\"\"\"Calcula la función de distribución acumulativa exponencial.\n",
        "\n",
        "    x: float o secuencia de floats\n",
        "    lam: parámetro de tasa\n",
        "\n",
        "    devuelve: flotante o matriz NumPy de probabilidad acumulativa\n",
        "    \"\"\"\n",
        "    #\n",
        "    return 1 - np.exp(-lam * x)"
      ],
      "metadata": {
        "id": "XaMu_d0RSVjC"
      },
      "execution_count": 61,
      "outputs": []
    },
    {
      "cell_type": "markdown",
      "source": [
        "El valor de `lam` es el número promedio de eventos por unidad de tiempo; en este ejemplo, son goles por segundo.\n",
        "Podemos utilizar el promedio de los resultados simulados para calcular `lam`."
      ],
      "metadata": {
        "id": "GQOEAYZHNqWg"
      }
    },
    {
      "cell_type": "code",
      "source": [
        "lam = 1 / mean\n",
        "lam.item()"
      ],
      "metadata": {
        "id": "02EG0WXzP6Kw",
        "colab": {
          "base_uri": "https://localhost:8080/"
        },
        "outputId": "927a8894-e3cf-4ade-a489-95627f5fc8ee"
      },
      "execution_count": 62,
      "outputs": [
        {
          "output_type": "execute_result",
          "data": {
            "text/plain": [
              "0.0016728276636563566"
            ]
          },
          "metadata": {},
          "execution_count": 62
        }
      ]
    },
    {
      "cell_type": "markdown",
      "source": [
        "Si llamamos a esta función con un rango de valores de tiempo, podemos aproximar la distribución de los tiempos del primer gol.\n",
        "La función NumPy `linspace` crea una matriz de valores equidistantes; en este ejemplo, calcula `201` valores entre `0 y 3600`, ambos incluidos."
      ],
      "metadata": {
        "id": "tBl8vi99P6Ys"
      }
    },
    {
      "cell_type": "code",
      "source": [
        "ts = np.linspace(0, 3600, 201)\n",
        "ps = exponential_CDF(ts, lam)\n",
        "\n",
        "cdf_expo = pd.Series(data=ps, index=ts, name=\"exponential model\")\n",
        "cdf_expo"
      ],
      "metadata": {
        "id": "o2b-ldt1SBaa",
        "colab": {
          "base_uri": "https://localhost:8080/",
          "height": 458
        },
        "outputId": "89e08d3a-5f7e-4cfe-e2f3-4b54a01dd978"
      },
      "execution_count": 63,
      "outputs": [
        {
          "output_type": "execute_result",
          "data": {
            "text/plain": [
              "0.0       0.000000\n",
              "18.0      0.029662\n",
              "36.0      0.058444\n",
              "54.0      0.086373\n",
              "72.0      0.113473\n",
              "            ...   \n",
              "3528.0    0.997265\n",
              "3546.0    0.997346\n",
              "3564.0    0.997425\n",
              "3582.0    0.997502\n",
              "3600.0    0.997576\n",
              "Name: exponential model, Length: 201, dtype: float64"
            ],
            "text/html": [
              "<div>\n",
              "<style scoped>\n",
              "    .dataframe tbody tr th:only-of-type {\n",
              "        vertical-align: middle;\n",
              "    }\n",
              "\n",
              "    .dataframe tbody tr th {\n",
              "        vertical-align: top;\n",
              "    }\n",
              "\n",
              "    .dataframe thead th {\n",
              "        text-align: right;\n",
              "    }\n",
              "</style>\n",
              "<table border=\"1\" class=\"dataframe\">\n",
              "  <thead>\n",
              "    <tr style=\"text-align: right;\">\n",
              "      <th></th>\n",
              "      <th>exponential model</th>\n",
              "    </tr>\n",
              "  </thead>\n",
              "  <tbody>\n",
              "    <tr>\n",
              "      <th>0.0</th>\n",
              "      <td>0.000000</td>\n",
              "    </tr>\n",
              "    <tr>\n",
              "      <th>18.0</th>\n",
              "      <td>0.029662</td>\n",
              "    </tr>\n",
              "    <tr>\n",
              "      <th>36.0</th>\n",
              "      <td>0.058444</td>\n",
              "    </tr>\n",
              "    <tr>\n",
              "      <th>54.0</th>\n",
              "      <td>0.086373</td>\n",
              "    </tr>\n",
              "    <tr>\n",
              "      <th>72.0</th>\n",
              "      <td>0.113473</td>\n",
              "    </tr>\n",
              "    <tr>\n",
              "      <th>...</th>\n",
              "      <td>...</td>\n",
              "    </tr>\n",
              "    <tr>\n",
              "      <th>3528.0</th>\n",
              "      <td>0.997265</td>\n",
              "    </tr>\n",
              "    <tr>\n",
              "      <th>3546.0</th>\n",
              "      <td>0.997346</td>\n",
              "    </tr>\n",
              "    <tr>\n",
              "      <th>3564.0</th>\n",
              "      <td>0.997425</td>\n",
              "    </tr>\n",
              "    <tr>\n",
              "      <th>3582.0</th>\n",
              "      <td>0.997502</td>\n",
              "    </tr>\n",
              "    <tr>\n",
              "      <th>3600.0</th>\n",
              "      <td>0.997576</td>\n",
              "    </tr>\n",
              "  </tbody>\n",
              "</table>\n",
              "<p>201 rows × 1 columns</p>\n",
              "</div><br><label><b>dtype:</b> float64</label>"
            ]
          },
          "metadata": {},
          "execution_count": 63
        }
      ]
    },
    {
      "cell_type": "markdown",
      "source": [
        "Ahora toca poner los datos simulados, obtenidos en `first_goal_times`, en su forma `CDF` para comparar las distribuciones. Puede utilizar la funcion `from_seq`. Nombre a la variable con el CDF como `cdf_sim`."
      ],
      "metadata": {
        "id": "ccqNb5cSlEid"
      }
    },
    {
      "cell_type": "code",
      "source": [
        "# Tu codigo va aqui\n",
        "cdf_sim = from_seq(first_goal_times, name=\"simulation\", convert_to=\"CDF\")"
      ],
      "metadata": {
        "id": "tczvp59-mLrb"
      },
      "execution_count": 64,
      "outputs": []
    },
    {
      "cell_type": "markdown",
      "source": [
        "La siguiente figura compara los resultados de la simulación con la distribución exponencial que acabamos de calcular."
      ],
      "metadata": {
        "id": "E6KbGd7zSAfI"
      }
    },
    {
      "cell_type": "code",
      "source": [
        "plot_cdf_plots(cdf_expo, cdf_sim, labels=[\"Exponential model\", \"Simulacion\"], xlabel=\"Tiempo del primer gol (segundos)\")"
      ],
      "metadata": {
        "id": "cvrTozcVgyGV",
        "colab": {
          "base_uri": "https://localhost:8080/",
          "height": 465
        },
        "outputId": "31315201-7a5e-4745-8738-4b639a359a4b"
      },
      "execution_count": 65,
      "outputs": [
        {
          "output_type": "display_data",
          "data": {
            "text/plain": [
              "<Figure size 800x500 with 1 Axes>"
            ],
            "image/png": "[encoded data removed]"
          },
          "metadata": {}
        }
      ]
    },
    {
      "cell_type": "markdown",
      "source": [
        "El modelo exponencial se ajusta muy bien a los resultados de la simulación, pero una prueba más rigurosa es ver cómo funciona con datos reales.\n",
        "\n",
        "\n",
        "**El siguiente bucle lee los resultados de todos los partidos, obtiene el tiempo del primer gol y almacena el resultado en una lista.\n",
        "Si no se marcaron goles, añade `nan` a la lista.**"
      ],
      "metadata": {
        "id": "2tMy1-giTE1i"
      }
    },
    {
      "cell_type": "code",
      "source": [
        "filename = \"nhl_2023_2024.hdf\"\n",
        "\n",
        "with pd.HDFStore(filename, \"r\") as store:\n",
        "    keys = store.keys()"
      ],
      "metadata": {
        "id": "oMbiLra8jqEp"
      },
      "execution_count": 66,
      "outputs": []
    },
    {
      "cell_type": "code",
      "source": [
        "firsts = []\n",
        "\n",
        "for key in keys:\n",
        "    times = pd.read_hdf(filename, key=key)\n",
        "    if len(times) > 0:\n",
        "        firsts.append(times[0]) #tiempo del primer gol\n",
        "    else:\n",
        "        firsts.append(np.nan)   #si no hubiero goles, rellenar con NAN\n",
        "\n",
        "print(\"Tiempo (en segundos) de primer gol en los primeros 5 partidos\")\n",
        "for i in firsts[:5]:\n",
        "  print(i)"
      ],
      "metadata": {
        "id": "ZFx6UJd-ju0a",
        "colab": {
          "base_uri": "https://localhost:8080/"
        },
        "outputId": "37e828dd-59e3-4044-808b-33acf474e299"
      },
      "execution_count": 67,
      "outputs": [
        {
          "output_type": "stream",
          "name": "stdout",
          "text": [
            "Tiempo (en segundos) de primer gol en los primeros 5 partidos\n",
            "424\n",
            "588\n",
            "436\n",
            "337\n",
            "194\n"
          ]
        }
      ]
    },
    {
      "cell_type": "markdown",
      "source": [
        "Estima la tasa de goles marcados (variable `lam`), puedes utilizar la funcion `nanmean` de la libreria `numpy` (np), que calcula la media de los tiempos, ignorando los valores `nan`."
      ],
      "metadata": {
        "id": "XDSYQJsVkvAH"
      }
    },
    {
      "cell_type": "code",
      "source": [
        "# Tu codigo va aqui\n",
        "lam = 1 / np.nanmean(firsts)"
      ],
      "metadata": {
        "id": "ygVm6CzhkDrU"
      },
      "execution_count": 68,
      "outputs": []
    },
    {
      "cell_type": "markdown",
      "source": [
        "Ahora podemos calcular la `CDF` de una `distribución exponencial` utilizando la funcion `exponential_cdf` con la misma tasa de goles que los datos (`lam`). LLama a esta variable como `cdf_expo`."
      ],
      "metadata": {
        "id": "0S0SHLjjnZnz"
      }
    },
    {
      "cell_type": "code",
      "source": [
        "# Tu codigo va aqui\n",
        "ts = np.linspace(0, 3600, 201)\n",
        "ps = exponential_CDF(ts, lam)\n",
        "\n",
        "cdf_expo = pd.Series(data=ps, index=ts, name=\"exponential model\")"
      ],
      "metadata": {
        "id": "DSsL0LXspAuc"
      },
      "execution_count": 69,
      "outputs": []
    },
    {
      "cell_type": "markdown",
      "source": [
        "Para calcular la `CDF` de los `datos`, podemos utilizar la funcion `from_seq` con el argumento `dropna=False`, que incluye valores `nan` al final. Nombra la variable que contenga el CDF como `cdf_firsts`."
      ],
      "metadata": {
        "id": "7Xee2Iktno0d"
      }
    },
    {
      "cell_type": "code",
      "source": [
        "# Tu codigo va aqui\n",
        "cdf_firsts = from_seq(firsts, name=\"data\", convert_to=\"CDF\", dropna=False)"
      ],
      "metadata": {
        "id": "GPq50rUnyfxy"
      },
      "execution_count": 70,
      "outputs": []
    },
    {
      "cell_type": "code",
      "source": [
        "cdf_firsts.tail()"
      ],
      "metadata": {
        "id": "VJfNdRBgopUi",
        "colab": {
          "base_uri": "https://localhost:8080/",
          "height": 272
        },
        "outputId": "f89e4652-83f3-4af1-f5f9-e21c835e3f6f"
      },
      "execution_count": 71,
      "outputs": [
        {
          "output_type": "execute_result",
          "data": {
            "text/plain": [
              "data\n",
              "3120.0    0.995427\n",
              "3198.0    0.996189\n",
              "3286.0    0.996951\n",
              "3581.0    0.997713\n",
              "NaN       1.000000\n",
              "Name: proportion, dtype: float64"
            ],
            "text/html": [
              "<div>\n",
              "<style scoped>\n",
              "    .dataframe tbody tr th:only-of-type {\n",
              "        vertical-align: middle;\n",
              "    }\n",
              "\n",
              "    .dataframe tbody tr th {\n",
              "        vertical-align: top;\n",
              "    }\n",
              "\n",
              "    .dataframe thead th {\n",
              "        text-align: right;\n",
              "    }\n",
              "</style>\n",
              "<table border=\"1\" class=\"dataframe\">\n",
              "  <thead>\n",
              "    <tr style=\"text-align: right;\">\n",
              "      <th></th>\n",
              "      <th>proportion</th>\n",
              "    </tr>\n",
              "    <tr>\n",
              "      <th>data</th>\n",
              "      <th></th>\n",
              "    </tr>\n",
              "  </thead>\n",
              "  <tbody>\n",
              "    <tr>\n",
              "      <th>3120.0</th>\n",
              "      <td>0.995427</td>\n",
              "    </tr>\n",
              "    <tr>\n",
              "      <th>3198.0</th>\n",
              "      <td>0.996189</td>\n",
              "    </tr>\n",
              "    <tr>\n",
              "      <th>3286.0</th>\n",
              "      <td>0.996951</td>\n",
              "    </tr>\n",
              "    <tr>\n",
              "      <th>3581.0</th>\n",
              "      <td>0.997713</td>\n",
              "    </tr>\n",
              "    <tr>\n",
              "      <th>NaN</th>\n",
              "      <td>1.000000</td>\n",
              "    </tr>\n",
              "  </tbody>\n",
              "</table>\n",
              "</div><br><label><b>dtype:</b> float64</label>"
            ]
          },
          "metadata": {},
          "execution_count": 71
        }
      ]
    },
    {
      "cell_type": "markdown",
      "source": [
        "La siguiente figura compara la distribución exponencial con la distribución de los datos."
      ],
      "metadata": {
        "id": "igJT3T2Foyuq"
      }
    },
    {
      "cell_type": "code",
      "source": [
        "plot_cdf_plots(cdf_expo, cdf_firsts, labels=[\"Exponential model\", \"data\"], xlabel=\"Tiempo del primer gol (segundos)\")"
      ],
      "metadata": {
        "id": "enPw58uKoBKu",
        "colab": {
          "base_uri": "https://localhost:8080/",
          "height": 465
        },
        "outputId": "97e6bce7-b032-4742-9c61-17e037d3e58d"
      },
      "execution_count": 72,
      "outputs": [
        {
          "output_type": "display_data",
          "data": {
            "text/plain": [
              "<Figure size 800x500 with 1 Axes>"
            ],
            "image/png": "[encoded data removed]"
          },
          "metadata": {}
        }
      ]
    },
    {
      "cell_type": "markdown",
      "source": [
        "Describe que tan bien/mal se ajusta nuestro modelo a la distribucion de los datos"
      ],
      "metadata": {
        "id": "UCWRAzEkVY4b"
      }
    },
    {
      "cell_type": "markdown",
      "source": [
        "El modelo se ajusta casi perfecto, se acerca mucho a la distribución de datos aunque algunas pequeñas desviaciones."
      ],
      "metadata": {
        "id": "BveyBMXnVY7O"
      }
    },
    {
      "cell_type": "markdown",
      "source": [
        "La hipótesis subyacente de estos modelos (el modelo de Poisson para los goles y el modelo exponencial para los tiempos) es que un gol es igualmente probable en cualquier segundo del partido.\n",
        "\n",
        "Si le preguntas a un aficionado al hockey si eso es cierto, te dirá que no, y tendrá razón: el mundo real viola supuestos como estos de muchas maneras.\n",
        "Sin embargo, las distribuciones teóricas a menudo se ajustan muy bien a los datos reales."
      ],
      "metadata": {
        "id": "yNWAi2rjpUs1"
      }
    },
    {
      "cell_type": "markdown",
      "source": [
        "---\n",
        "---\n",
        "## La distribución Normal\n",
        "\n",
        "Muchas cosas que medimos en el mundo real siguen una **distribución normal**, también conocida como distribución gaussiana o *curva de campana*.\n",
        "Para ver de dónde provienen estas distribuciones, consideremos un modelo del crecimiento de las calabazas gigantes.\n",
        "\n",
        "Supongamos que cada día, una calabaza gana `1 libra` (≈ 0.45kg) si el tiempo es malo, `2 libras` (≈ 0.9kg) si el tiempo es regular y `3 libras` (≈ 1.36kg) si el tiempo es bueno.\n",
        "Y **supongamos que el tiempo cada día es malo, regular o bueno con la misma probabilidad**.\n",
        "\n",
        "<br>\n",
        "\n",
        "Podemos utilizar la siguiente función, `simulate_growth`, para simular este modelo durante `n` días y obtener el total de las ganancias de peso.\n"
      ],
      "metadata": {
        "id": "yk4CGHhkVlic"
      }
    },
    {
      "cell_type": "code",
      "source": [
        "def simulate_growth(n):\n",
        "  choices = [1, 2, 3]\n",
        "  gains = np.random.choice(choices, n)\n",
        "  return gains.sum()"
      ],
      "metadata": {
        "id": "RNffPYv1pXCY"
      },
      "execution_count": 73,
      "outputs": []
    },
    {
      "cell_type": "markdown",
      "source": [
        "<br>\n",
        "\n",
        "El módulo `random` de `NumPy` proporciona una función `choice` que genera una matriz de `n` selecciones aleatorias a partir de una secuencia de valores, `choices` en este ejemplo.\n",
        "\n",
        "<br>\n",
        "\n",
        "Ahora supongamos que `1,001` personas cultivan calabazas gigantes en diferentes lugares con diferentes condiciones climáticas.\n",
        "Si simulamos el proceso de crecimiento durante `100 días`, obtenemos una lista de `1,001 pesos`."
      ],
      "metadata": {
        "id": "RslLQd9sXpLP"
      }
    },
    {
      "cell_type": "code",
      "source": [
        "sim_weights = [simulate_growth(100) for i in range(1001)]\n",
        "m, s = np.mean(sim_weights), np.std(sim_weights)\n",
        "\n",
        "print(f\"Peso promedio: {m:4f}, desviacion std: {s:4f}\")"
      ],
      "metadata": {
        "id": "R8zi9QaUYR33",
        "colab": {
          "base_uri": "https://localhost:8080/"
        },
        "outputId": "bb507ab5-619f-4cf0-80e6-b2d4c119e733"
      },
      "execution_count": 74,
      "outputs": [
        {
          "output_type": "stream",
          "name": "stdout",
          "text": [
            "Peso promedio: 199.370629, desviacion std: 8.388631\n"
          ]
        }
      ]
    },
    {
      "cell_type": "markdown",
      "source": [
        "La `media` es cercana a `200 libras` y la `desviación estándar` es de aproximadamente `8 libras`.\n",
        "\n",
        "Para ver si los pesos siguen una `distribución normal`, utilizaremos la siguiente función, que toma una muestra y crea una `Cdf` que representa una distribución normal con la misma media y desviación estándar que la muestra, evaluada en el rango de 4 desviaciones estándar por debajo de la media a 4 desviaciones estándar por encima."
      ],
      "metadata": {
        "id": "s4MuwTHhYPiV"
      }
    },
    {
      "cell_type": "code",
      "source": [
        "from scipy.stats import norm\n",
        "\n",
        "def make_normal_model(data):\n",
        "  m, s = np.mean(data), np.std(data)\n",
        "\n",
        "  low, high = m - 4 * s, m + 4 * s\n",
        "\n",
        "  qs = np.linspace(low, high, 201)\n",
        "  ps = norm.cdf(qs, m, s)\n",
        "\n",
        "  return pd.Series(data=ps, index=qs, name=\"normal model\")"
      ],
      "metadata": {
        "id": "1MyZYWUSZYvq"
      },
      "execution_count": 75,
      "outputs": []
    },
    {
      "cell_type": "markdown",
      "source": [
        "Aqui como usarlo, para convertir nuestro datos extraido del `modelo normal`:"
      ],
      "metadata": {
        "id": "McRGEofVZYM4"
      }
    },
    {
      "cell_type": "code",
      "source": [
        "cdf_model = make_normal_model(sim_weights)\n",
        "cdf_model"
      ],
      "metadata": {
        "id": "0gYED29WaJzQ",
        "colab": {
          "base_uri": "https://localhost:8080/",
          "height": 458
        },
        "outputId": "a4ae298a-dadc-484f-86de-a3fd559bcb4a"
      },
      "execution_count": 76,
      "outputs": [
        {
          "output_type": "execute_result",
          "data": {
            "text/plain": [
              "165.816106    0.000032\n",
              "166.151651    0.000037\n",
              "166.487196    0.000044\n",
              "166.822742    0.000052\n",
              "167.158287    0.000062\n",
              "                ...   \n",
              "231.582972    0.999938\n",
              "231.918517    0.999948\n",
              "232.254062    0.999956\n",
              "232.589607    0.999963\n",
              "232.925153    0.999968\n",
              "Name: normal model, Length: 201, dtype: float64"
            ],
            "text/html": [
              "<div>\n",
              "<style scoped>\n",
              "    .dataframe tbody tr th:only-of-type {\n",
              "        vertical-align: middle;\n",
              "    }\n",
              "\n",
              "    .dataframe tbody tr th {\n",
              "        vertical-align: top;\n",
              "    }\n",
              "\n",
              "    .dataframe thead th {\n",
              "        text-align: right;\n",
              "    }\n",
              "</style>\n",
              "<table border=\"1\" class=\"dataframe\">\n",
              "  <thead>\n",
              "    <tr style=\"text-align: right;\">\n",
              "      <th></th>\n",
              "      <th>normal model</th>\n",
              "    </tr>\n",
              "  </thead>\n",
              "  <tbody>\n",
              "    <tr>\n",
              "      <th>165.816106</th>\n",
              "      <td>0.000032</td>\n",
              "    </tr>\n",
              "    <tr>\n",
              "      <th>166.151651</th>\n",
              "      <td>0.000037</td>\n",
              "    </tr>\n",
              "    <tr>\n",
              "      <th>166.487196</th>\n",
              "      <td>0.000044</td>\n",
              "    </tr>\n",
              "    <tr>\n",
              "      <th>166.822742</th>\n",
              "      <td>0.000052</td>\n",
              "    </tr>\n",
              "    <tr>\n",
              "      <th>167.158287</th>\n",
              "      <td>0.000062</td>\n",
              "    </tr>\n",
              "    <tr>\n",
              "      <th>...</th>\n",
              "      <td>...</td>\n",
              "    </tr>\n",
              "    <tr>\n",
              "      <th>231.582972</th>\n",
              "      <td>0.999938</td>\n",
              "    </tr>\n",
              "    <tr>\n",
              "      <th>231.918517</th>\n",
              "      <td>0.999948</td>\n",
              "    </tr>\n",
              "    <tr>\n",
              "      <th>232.254062</th>\n",
              "      <td>0.999956</td>\n",
              "    </tr>\n",
              "    <tr>\n",
              "      <th>232.589607</th>\n",
              "      <td>0.999963</td>\n",
              "    </tr>\n",
              "    <tr>\n",
              "      <th>232.925153</th>\n",
              "      <td>0.999968</td>\n",
              "    </tr>\n",
              "  </tbody>\n",
              "</table>\n",
              "<p>201 rows × 1 columns</p>\n",
              "</div><br><label><b>dtype:</b> float64</label>"
            ]
          },
          "metadata": {},
          "execution_count": 76
        }
      ]
    },
    {
      "cell_type": "markdown",
      "source": [
        "Ahora podemos crear una `CDF` que represente la distribución de los resultados de la `simulación`."
      ],
      "metadata": {
        "id": "bn_kcO7sbaO5"
      }
    },
    {
      "cell_type": "code",
      "source": [
        "cdf_sim_weights = from_seq(sim_weights, name=\"simulation\", convert_to=\"CDF\")\n",
        "cdf_sim_weights"
      ],
      "metadata": {
        "id": "jpolgnn_agUu",
        "colab": {
          "base_uri": "https://localhost:8080/",
          "height": 1000
        },
        "outputId": "0d77056c-eee2-44fe-b3f2-842fa2e6c484"
      },
      "execution_count": 77,
      "outputs": [
        {
          "output_type": "execute_result",
          "data": {
            "text/plain": [
              "simulation\n",
              "176    0.001998\n",
              "177    0.002997\n",
              "178    0.004995\n",
              "179    0.007992\n",
              "180    0.011988\n",
              "181    0.018981\n",
              "182    0.021978\n",
              "183    0.033966\n",
              "184    0.041958\n",
              "185    0.055944\n",
              "186    0.069930\n",
              "187    0.084915\n",
              "188    0.101898\n",
              "189    0.120879\n",
              "190    0.146853\n",
              "191    0.178821\n",
              "192    0.201798\n",
              "193    0.233766\n",
              "194    0.272727\n",
              "195    0.315684\n",
              "196    0.364635\n",
              "197    0.408591\n",
              "198    0.451548\n",
              "199    0.498501\n",
              "200    0.557443\n",
              "201    0.602398\n",
              "202    0.637363\n",
              "203    0.681319\n",
              "204    0.736264\n",
              "205    0.775225\n",
              "206    0.804196\n",
              "207    0.834166\n",
              "208    0.866134\n",
              "209    0.893107\n",
              "210    0.911089\n",
              "211    0.927073\n",
              "212    0.942058\n",
              "213    0.947053\n",
              "214    0.960040\n",
              "215    0.970030\n",
              "216    0.979021\n",
              "217    0.987013\n",
              "218    0.989011\n",
              "219    0.991009\n",
              "220    0.994006\n",
              "221    0.997003\n",
              "223    0.998002\n",
              "224    0.999001\n",
              "225    1.000000\n",
              "Name: proportion, dtype: float64"
            ],
            "text/html": [
              "<div>\n",
              "<style scoped>\n",
              "    .dataframe tbody tr th:only-of-type {\n",
              "        vertical-align: middle;\n",
              "    }\n",
              "\n",
              "    .dataframe tbody tr th {\n",
              "        vertical-align: top;\n",
              "    }\n",
              "\n",
              "    .dataframe thead th {\n",
              "        text-align: right;\n",
              "    }\n",
              "</style>\n",
              "<table border=\"1\" class=\"dataframe\">\n",
              "  <thead>\n",
              "    <tr style=\"text-align: right;\">\n",
              "      <th></th>\n",
              "      <th>proportion</th>\n",
              "    </tr>\n",
              "    <tr>\n",
              "      <th>simulation</th>\n",
              "      <th></th>\n",
              "    </tr>\n",
              "  </thead>\n",
              "  <tbody>\n",
              "    <tr>\n",
              "      <th>176</th>\n",
              "      <td>0.001998</td>\n",
              "    </tr>\n",
              "    <tr>\n",
              "      <th>177</th>\n",
              "      <td>0.002997</td>\n",
              "    </tr>\n",
              "    <tr>\n",
              "      <th>178</th>\n",
              "      <td>0.004995</td>\n",
              "    </tr>\n",
              "    <tr>\n",
              "      <th>179</th>\n",
              "      <td>0.007992</td>\n",
              "    </tr>\n",
              "    <tr>\n",
              "      <th>180</th>\n",
              "      <td>0.011988</td>\n",
              "    </tr>\n",
              "    <tr>\n",
              "      <th>181</th>\n",
              "      <td>0.018981</td>\n",
              "    </tr>\n",
              "    <tr>\n",
              "      <th>182</th>\n",
              "      <td>0.021978</td>\n",
              "    </tr>\n",
              "    <tr>\n",
              "      <th>183</th>\n",
              "      <td>0.033966</td>\n",
              "    </tr>\n",
              "    <tr>\n",
              "      <th>184</th>\n",
              "      <td>0.041958</td>\n",
              "    </tr>\n",
              "    <tr>\n",
              "      <th>185</th>\n",
              "      <td>0.055944</td>\n",
              "    </tr>\n",
              "    <tr>\n",
              "      <th>186</th>\n",
              "      <td>0.069930</td>\n",
              "    </tr>\n",
              "    <tr>\n",
              "      <th>187</th>\n",
              "      <td>0.084915</td>\n",
              "    </tr>\n",
              "    <tr>\n",
              "      <th>188</th>\n",
              "      <td>0.101898</td>\n",
              "    </tr>\n",
              "    <tr>\n",
              "      <th>189</th>\n",
              "      <td>0.120879</td>\n",
              "    </tr>\n",
              "    <tr>\n",
              "      <th>190</th>\n",
              "      <td>0.146853</td>\n",
              "    </tr>\n",
              "    <tr>\n",
              "      <th>191</th>\n",
              "      <td>0.178821</td>\n",
              "    </tr>\n",
              "    <tr>\n",
              "      <th>192</th>\n",
              "      <td>0.201798</td>\n",
              "    </tr>\n",
              "    <tr>\n",
              "      <th>193</th>\n",
              "      <td>0.233766</td>\n",
              "    </tr>\n",
              "    <tr>\n",
              "      <th>194</th>\n",
              "      <td>0.272727</td>\n",
              "    </tr>\n",
              "    <tr>\n",
              "      <th>195</th>\n",
              "      <td>0.315684</td>\n",
              "    </tr>\n",
              "    <tr>\n",
              "      <th>196</th>\n",
              "      <td>0.364635</td>\n",
              "    </tr>\n",
              "    <tr>\n",
              "      <th>197</th>\n",
              "      <td>0.408591</td>\n",
              "    </tr>\n",
              "    <tr>\n",
              "      <th>198</th>\n",
              "      <td>0.451548</td>\n",
              "    </tr>\n",
              "    <tr>\n",
              "      <th>199</th>\n",
              "      <td>0.498501</td>\n",
              "    </tr>\n",
              "    <tr>\n",
              "      <th>200</th>\n",
              "      <td>0.557443</td>\n",
              "    </tr>\n",
              "    <tr>\n",
              "      <th>201</th>\n",
              "      <td>0.602398</td>\n",
              "    </tr>\n",
              "    <tr>\n",
              "      <th>202</th>\n",
              "      <td>0.637363</td>\n",
              "    </tr>\n",
              "    <tr>\n",
              "      <th>203</th>\n",
              "      <td>0.681319</td>\n",
              "    </tr>\n",
              "    <tr>\n",
              "      <th>204</th>\n",
              "      <td>0.736264</td>\n",
              "    </tr>\n",
              "    <tr>\n",
              "      <th>205</th>\n",
              "      <td>0.775225</td>\n",
              "    </tr>\n",
              "    <tr>\n",
              "      <th>206</th>\n",
              "      <td>0.804196</td>\n",
              "    </tr>\n",
              "    <tr>\n",
              "      <th>207</th>\n",
              "      <td>0.834166</td>\n",
              "    </tr>\n",
              "    <tr>\n",
              "      <th>208</th>\n",
              "      <td>0.866134</td>\n",
              "    </tr>\n",
              "    <tr>\n",
              "      <th>209</th>\n",
              "      <td>0.893107</td>\n",
              "    </tr>\n",
              "    <tr>\n",
              "      <th>210</th>\n",
              "      <td>0.911089</td>\n",
              "    </tr>\n",
              "    <tr>\n",
              "      <th>211</th>\n",
              "      <td>0.927073</td>\n",
              "    </tr>\n",
              "    <tr>\n",
              "      <th>212</th>\n",
              "      <td>0.942058</td>\n",
              "    </tr>\n",
              "    <tr>\n",
              "      <th>213</th>\n",
              "      <td>0.947053</td>\n",
              "    </tr>\n",
              "    <tr>\n",
              "      <th>214</th>\n",
              "      <td>0.960040</td>\n",
              "    </tr>\n",
              "    <tr>\n",
              "      <th>215</th>\n",
              "      <td>0.970030</td>\n",
              "    </tr>\n",
              "    <tr>\n",
              "      <th>216</th>\n",
              "      <td>0.979021</td>\n",
              "    </tr>\n",
              "    <tr>\n",
              "      <th>217</th>\n",
              "      <td>0.987013</td>\n",
              "    </tr>\n",
              "    <tr>\n",
              "      <th>218</th>\n",
              "      <td>0.989011</td>\n",
              "    </tr>\n",
              "    <tr>\n",
              "      <th>219</th>\n",
              "      <td>0.991009</td>\n",
              "    </tr>\n",
              "    <tr>\n",
              "      <th>220</th>\n",
              "      <td>0.994006</td>\n",
              "    </tr>\n",
              "    <tr>\n",
              "      <th>221</th>\n",
              "      <td>0.997003</td>\n",
              "    </tr>\n",
              "    <tr>\n",
              "      <th>223</th>\n",
              "      <td>0.998002</td>\n",
              "    </tr>\n",
              "    <tr>\n",
              "      <th>224</th>\n",
              "      <td>0.999001</td>\n",
              "    </tr>\n",
              "    <tr>\n",
              "      <th>225</th>\n",
              "      <td>1.000000</td>\n",
              "    </tr>\n",
              "  </tbody>\n",
              "</table>\n",
              "</div><br><label><b>dtype:</b> float64</label>"
            ]
          },
          "metadata": {},
          "execution_count": 77
        }
      ]
    },
    {
      "cell_type": "markdown",
      "source": [
        "Usaremos la siguiente función `plot_cdf_plots` para comparar las distribuciones."
      ],
      "metadata": {
        "id": "RRoP49ENb9aE"
      }
    },
    {
      "cell_type": "code",
      "source": [
        "plot_cdf_plots(cdf_model, cdf_sim_weights, labels=[\"Normal model\", \"Simulation\"], xlabel=\"Weight (pounds)\")"
      ],
      "metadata": {
        "id": "j9KfJmhmb9hc",
        "colab": {
          "base_uri": "https://localhost:8080/",
          "height": 465
        },
        "outputId": "30978cfa-2759-4aae-816f-0343d06fcb29"
      },
      "execution_count": 78,
      "outputs": [
        {
          "output_type": "display_data",
          "data": {
            "text/plain": [
              "<Figure size 800x500 with 1 Axes>"
            ],
            "image/png": "[encoded data removed]"
          },
          "metadata": {}
        }
      ]
    },
    {
      "cell_type": "markdown",
      "source": [
        "El modelo normal se ajusta muy bien a la distribución de los pesos.\n",
        "En general, cuando sumamos suficientes factores aleatorios, la suma tiende a seguir una `distribución normal`.\n",
        "Esa es una consecuencia del `teorema del límite central`, al que volveremos mas adelante."
      ],
      "metadata": {
        "id": "iryjCwE7cVB4"
      }
    },
    {
      "cell_type": "markdown",
      "source": [
        "---\n",
        "---\n",
        "\n",
        "## La distribución log-normal\n",
        "\n",
        "Anteriormente, simulamos el crecimiento de las calabazas suponiendo que crecen entre `1` y `3 libras` al día, dependiendo del clima.\n",
        "En cambio, supongamos que su crecimiento es proporcional a su peso actual, de modo que las calabazas grandes ganan más peso al día que las pequeñas, lo que probablemente sea más realista.\n",
        "\n",
        "La siguiente función simula este tipo de crecimiento proporcional, en el que una calabaza gana un `3%` de su peso si el clima es malo, un `5%` si el clima es regular y un `7%` si el clima es bueno.\n",
        "Una vez más, supondremos que el clima es malo, regular o bueno en un día cualquiera con la misma probabilidad."
      ],
      "metadata": {
        "id": "BDlqKD2ydyTK"
      }
    },
    {
      "cell_type": "code",
      "source": [
        "def simulate_proportionate_growth(n):\n",
        "  choices = [1.03, 1.05, 1.07]\n",
        "  gains = np.random.choice(choices, n)\n",
        "  return gains.prod()"
      ],
      "metadata": {
        "id": "ZoEU1fnde-ak"
      },
      "execution_count": 79,
      "outputs": []
    },
    {
      "cell_type": "markdown",
      "source": [
        "Si una calabaza aumenta un `3%` de su peso, el peso final es el producto del peso inicial y el factor `1.03`.\n",
        "Así que podemos calcular el peso después de `100 días` eligiendo factores aleatorios y multiplicándolos entre sí.\n",
        "\n",
        "Llamaremos a esta función `1001` veces para simular `1001` calabazas y guardar sus pesos. Adicionalmente, calcula la `media` y `desviacion estandar` del peso de las calabazas."
      ],
      "metadata": {
        "id": "hAK71SuCfKOi"
      }
    },
    {
      "cell_type": "code",
      "source": [
        "# Tu codigo va aqui\n",
        "sim_weights_prop = [simulate_proportionate_growth(100) for i in range(1001)]\n",
        "m_prop, s_prop = np.mean(sim_weights_prop), np.std(sim_weights_prop)\n",
        "\n",
        "print(f\"Peso promedio (crecimiento proporcional): {m_prop:4f}, desviacion std (crecimiento proporcional): {s_prop:4f}\")"
      ],
      "metadata": {
        "id": "YgNq5M-VfIL_",
        "colab": {
          "base_uri": "https://localhost:8080/"
        },
        "outputId": "c574119f-6f13-4adb-ac19-afbc6491cdb0"
      },
      "execution_count": 82,
      "outputs": [
        {
          "output_type": "stream",
          "name": "stdout",
          "text": [
            "Peso promedio (crecimiento proporcional): 131.990166, desviacion std (crecimiento proporcional): 20.875153\n"
          ]
        }
      ]
    },
    {
      "cell_type": "markdown",
      "source": [
        "¿Que puedes observar respecto a lo obtenido del modelo anterior?"
      ],
      "metadata": {
        "id": "r6MwVV2kgzc2"
      }
    },
    {
      "cell_type": "markdown",
      "source": [
        "La media del peso final de las calabazas es menor, y la desviación estándar es considerablemente mayor. En el modelo proporcional, donde el crecimiento depende del peso actual, los pesos finales son más dispersos."
      ],
      "metadata": {
        "id": "6VX9ro6CgzfX"
      }
    },
    {
      "cell_type": "markdown",
      "source": [
        "Debemos demostrar matemáticamente que siguen una **distribución lognormal**, lo que significa que `los logaritmos de los pesos siguen una distribución normal`.\n",
        "\n",
        "Para comprobarlo, calcula los `logaritmos de los pesos` y su `media` y `desviación estándar`.\n",
        "Podríamos utilizar logaritmos con cualquier base, pero utiliza la `base 10` porque facilita la interpretación de los resultados."
      ],
      "metadata": {
        "id": "845F8BR8fYOz"
      }
    },
    {
      "cell_type": "code",
      "source": [
        "# Tu codigo va aqui\n",
        "log_sim_weights_prop = np.log10(sim_weights_prop)\n",
        "m_log, s_log = np.mean(log_sim_weights_prop), np.std(log_sim_weights_prop)\n",
        "\n",
        "print(f\"Media de los logaritmos (base 10): {m_log:4f}, desviacion std de los logaritmos (base 10): {s_log:4f}\")"
      ],
      "metadata": {
        "id": "YS5xv3SBfIQU",
        "colab": {
          "base_uri": "https://localhost:8080/"
        },
        "outputId": "e63aaaf7-aca7-4403-f8d2-3bc99da32142"
      },
      "execution_count": 83,
      "outputs": [
        {
          "output_type": "stream",
          "name": "stdout",
          "text": [
            "Media de los logaritmos (base 10): 2.115172, desviacion std de los logaritmos (base 10): 0.068295\n"
          ]
        }
      ]
    },
    {
      "cell_type": "markdown",
      "source": [
        "Toca poner nuestros datos (modelo y simulados) en forma:\n",
        "\n",
        "- Utiliza el logaritmo de los pesos (simulados) para modelar una distribucion normal y obtener un modelo. Puedes apoyarte en la funcion `make_normal_model`.\n",
        "- Utiliza estos datos simulados directamente en su forma `CDF`. Puedes apoyarte en la funcion `from_seq`."
      ],
      "metadata": {
        "id": "SmOpAKPzkNm8"
      }
    },
    {
      "cell_type": "code",
      "source": [
        "# Tu codigo va aqui\n",
        "cdf_log_model = make_normal_model(log_sim_weights_prop)\n",
        "cdf_log_model"
      ],
      "metadata": {
        "id": "MJ2UOj3ZfIS4",
        "colab": {
          "base_uri": "https://localhost:8080/",
          "height": 458
        },
        "outputId": "f4636734-33d8-47e2-940d-a3f49860b6e0"
      },
      "execution_count": 88,
      "outputs": [
        {
          "output_type": "execute_result",
          "data": {
            "text/plain": [
              "1.841993    0.000032\n",
              "1.844725    0.000037\n",
              "1.847457    0.000044\n",
              "1.850188    0.000052\n",
              "1.852920    0.000062\n",
              "              ...   \n",
              "2.377424    0.999938\n",
              "2.380156    0.999948\n",
              "2.382888    0.999956\n",
              "2.385620    0.999963\n",
              "2.388351    0.999968\n",
              "Name: normal model, Length: 201, dtype: float64"
            ],
            "text/html": [
              "<div>\n",
              "<style scoped>\n",
              "    .dataframe tbody tr th:only-of-type {\n",
              "        vertical-align: middle;\n",
              "    }\n",
              "\n",
              "    .dataframe tbody tr th {\n",
              "        vertical-align: top;\n",
              "    }\n",
              "\n",
              "    .dataframe thead th {\n",
              "        text-align: right;\n",
              "    }\n",
              "</style>\n",
              "<table border=\"1\" class=\"dataframe\">\n",
              "  <thead>\n",
              "    <tr style=\"text-align: right;\">\n",
              "      <th></th>\n",
              "      <th>normal model</th>\n",
              "    </tr>\n",
              "  </thead>\n",
              "  <tbody>\n",
              "    <tr>\n",
              "      <th>1.841993</th>\n",
              "      <td>0.000032</td>\n",
              "    </tr>\n",
              "    <tr>\n",
              "      <th>1.844725</th>\n",
              "      <td>0.000037</td>\n",
              "    </tr>\n",
              "    <tr>\n",
              "      <th>1.847457</th>\n",
              "      <td>0.000044</td>\n",
              "    </tr>\n",
              "    <tr>\n",
              "      <th>1.850188</th>\n",
              "      <td>0.000052</td>\n",
              "    </tr>\n",
              "    <tr>\n",
              "      <th>1.852920</th>\n",
              "      <td>0.000062</td>\n",
              "    </tr>\n",
              "    <tr>\n",
              "      <th>...</th>\n",
              "      <td>...</td>\n",
              "    </tr>\n",
              "    <tr>\n",
              "      <th>2.377424</th>\n",
              "      <td>0.999938</td>\n",
              "    </tr>\n",
              "    <tr>\n",
              "      <th>2.380156</th>\n",
              "      <td>0.999948</td>\n",
              "    </tr>\n",
              "    <tr>\n",
              "      <th>2.382888</th>\n",
              "      <td>0.999956</td>\n",
              "    </tr>\n",
              "    <tr>\n",
              "      <th>2.385620</th>\n",
              "      <td>0.999963</td>\n",
              "    </tr>\n",
              "    <tr>\n",
              "      <th>2.388351</th>\n",
              "      <td>0.999968</td>\n",
              "    </tr>\n",
              "  </tbody>\n",
              "</table>\n",
              "<p>201 rows × 1 columns</p>\n",
              "</div><br><label><b>dtype:</b> float64</label>"
            ]
          },
          "metadata": {},
          "execution_count": 88
        }
      ]
    },
    {
      "cell_type": "code",
      "source": [
        "# Tu codigo va aqui\n",
        "cdf_sim_weights_prop = from_seq(sim_weights_prop, name=\"simulation\", convert_to=\"CDF\")\n",
        "cdf_sim_weights_prop"
      ],
      "metadata": {
        "id": "e8qQdzRfoL0a",
        "colab": {
          "base_uri": "https://localhost:8080/",
          "height": 489
        },
        "outputId": "4f770262-ae3c-4456-e25b-485253239934"
      },
      "execution_count": 89,
      "outputs": [
        {
          "output_type": "execute_result",
          "data": {
            "text/plain": [
              "simulation\n",
              "73.425370     0.000999\n",
              "83.823365     0.001998\n",
              "85.482017     0.002997\n",
              "86.952337     0.003996\n",
              "87.047048     0.004995\n",
              "                ...   \n",
              "193.886179    0.996004\n",
              "197.221088    0.997003\n",
              "197.364275    0.998002\n",
              "205.103321    0.999001\n",
              "209.237710    1.000000\n",
              "Name: proportion, Length: 831, dtype: float64"
            ],
            "text/html": [
              "<div>\n",
              "<style scoped>\n",
              "    .dataframe tbody tr th:only-of-type {\n",
              "        vertical-align: middle;\n",
              "    }\n",
              "\n",
              "    .dataframe tbody tr th {\n",
              "        vertical-align: top;\n",
              "    }\n",
              "\n",
              "    .dataframe thead th {\n",
              "        text-align: right;\n",
              "    }\n",
              "</style>\n",
              "<table border=\"1\" class=\"dataframe\">\n",
              "  <thead>\n",
              "    <tr style=\"text-align: right;\">\n",
              "      <th></th>\n",
              "      <th>proportion</th>\n",
              "    </tr>\n",
              "    <tr>\n",
              "      <th>simulation</th>\n",
              "      <th></th>\n",
              "    </tr>\n",
              "  </thead>\n",
              "  <tbody>\n",
              "    <tr>\n",
              "      <th>73.425370</th>\n",
              "      <td>0.000999</td>\n",
              "    </tr>\n",
              "    <tr>\n",
              "      <th>83.823365</th>\n",
              "      <td>0.001998</td>\n",
              "    </tr>\n",
              "    <tr>\n",
              "      <th>85.482017</th>\n",
              "      <td>0.002997</td>\n",
              "    </tr>\n",
              "    <tr>\n",
              "      <th>86.952337</th>\n",
              "      <td>0.003996</td>\n",
              "    </tr>\n",
              "    <tr>\n",
              "      <th>87.047048</th>\n",
              "      <td>0.004995</td>\n",
              "    </tr>\n",
              "    <tr>\n",
              "      <th>...</th>\n",
              "      <td>...</td>\n",
              "    </tr>\n",
              "    <tr>\n",
              "      <th>193.886179</th>\n",
              "      <td>0.996004</td>\n",
              "    </tr>\n",
              "    <tr>\n",
              "      <th>197.221088</th>\n",
              "      <td>0.997003</td>\n",
              "    </tr>\n",
              "    <tr>\n",
              "      <th>197.364275</th>\n",
              "      <td>0.998002</td>\n",
              "    </tr>\n",
              "    <tr>\n",
              "      <th>205.103321</th>\n",
              "      <td>0.999001</td>\n",
              "    </tr>\n",
              "    <tr>\n",
              "      <th>209.237710</th>\n",
              "      <td>1.000000</td>\n",
              "    </tr>\n",
              "  </tbody>\n",
              "</table>\n",
              "<p>831 rows × 1 columns</p>\n",
              "</div><br><label><b>dtype:</b> float64</label>"
            ]
          },
          "metadata": {},
          "execution_count": 89
        }
      ]
    },
    {
      "cell_type": "markdown",
      "source": [
        "Ahora compara la `distribución de los logaritmos` con una `distribución normal` con la misma `media` y `desviación estándar`. Puedes apoyarte en la funcion `plot_cdf_plots`."
      ],
      "metadata": {
        "id": "-hmNHxaiifSd"
      }
    },
    {
      "cell_type": "code",
      "source": [
        "# Tu codigo va aqui\n",
        "plot_cdf_plots(cdf_log_model, cdf_sim_weights_prop, labels=[\"Normal model (log)\", \"Simulation (log)\"], xlabel=\"Log10 Weight\")"
      ],
      "metadata": {
        "id": "fTFnPqhBoL3L",
        "colab": {
          "base_uri": "https://localhost:8080/",
          "height": 465
        },
        "outputId": "a62ad7a9-1993-48d3-8cbf-c327c8083280"
      },
      "execution_count": 90,
      "outputs": [
        {
          "output_type": "display_data",
          "data": {
            "text/plain": [
              "<Figure size 800x500 with 1 Axes>"
            ],
            "image/png": "[encoded data removed]"
          },
          "metadata": {}
        }
      ]
    },
    {
      "cell_type": "markdown",
      "source": [
        "Menciona como este modelo LogNormal se ajusta a la simulación, tal y como esperábamos."
      ],
      "metadata": {
        "id": "UIjsOMkDqmq-"
      }
    },
    {
      "cell_type": "markdown",
      "source": [
        " Los logaritmos de los pesos siguen una distribución normal, y los pesos originales siguen una distribución log-normal, por lo que el modelo log-normal se ajusta muy bien a la simulación."
      ],
      "metadata": {
        "id": "kawqo6xtqmzL"
      }
    }
  ]
}